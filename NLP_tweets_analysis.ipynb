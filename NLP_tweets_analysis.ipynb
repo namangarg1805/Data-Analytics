{
  "nbformat": 4,
  "nbformat_minor": 0,
  "metadata": {
    "colab": {
      "provenance": [],
      "include_colab_link": true
    },
    "kernelspec": {
      "name": "python3",
      "display_name": "Python 3"
    },
    "language_info": {
      "name": "python"
    }
  },
  "cells": [
    {
      "cell_type": "markdown",
      "metadata": {
        "id": "view-in-github",
        "colab_type": "text"
      },
      "source": [
        "<a href=\"https://colab.research.google.com/github/namangarg1805/Data-Analytics/blob/main/NLP_tweets_analysis.ipynb\" target=\"_parent\"><img src=\"https://colab.research.google.com/assets/colab-badge.svg\" alt=\"Open In Colab\"/></a>"
      ]
    },
    {
      "cell_type": "markdown",
      "metadata": {
        "id": "axTfX41Q1tzv"
      },
      "source": [
        "## Content\n"
      ]
    },
    {
      "cell_type": "code",
      "execution_count": 22,
      "metadata": {
        "colab": {
          "base_uri": "https://localhost:8080/"
        },
        "id": "DTyBt-Bt7dpx",
        "outputId": "d3039287-97af-48f2-fd36-63a67d2946f8"
      },
      "outputs": [
        {
          "output_type": "stream",
          "name": "stdout",
          "text": [
            "Requirement already satisfied: nltk in /usr/local/lib/python3.11/dist-packages (3.9.1)\n",
            "Requirement already satisfied: click in /usr/local/lib/python3.11/dist-packages (from nltk) (8.1.8)\n",
            "Requirement already satisfied: joblib in /usr/local/lib/python3.11/dist-packages (from nltk) (1.4.2)\n",
            "Requirement already satisfied: regex>=2021.8.3 in /usr/local/lib/python3.11/dist-packages (from nltk) (2024.11.6)\n",
            "Requirement already satisfied: tqdm in /usr/local/lib/python3.11/dist-packages (from nltk) (4.67.1)\n"
          ]
        },
        {
          "output_type": "stream",
          "name": "stderr",
          "text": [
            "[nltk_data] Downloading package punkt to /root/nltk_data...\n",
            "[nltk_data]   Package punkt is already up-to-date!\n"
          ]
        },
        {
          "output_type": "execute_result",
          "data": {
            "text/plain": [
              "True"
            ]
          },
          "metadata": {},
          "execution_count": 22
        }
      ],
      "source": [
        "import os\n",
        "import re\n",
        "import random\n",
        "import string      # for string operations\n",
        "import pandas as pd\n",
        "import numpy as np\n",
        "import matplotlib.pyplot as plt\n",
        "from sklearn.model_selection import train_test_split\n",
        "from sklearn.linear_model import LogisticRegression\n",
        "import plotly.express as px\n",
        "# SetUp NLTK\n",
        "!pip install --user -U nltk\n",
        "import nltk\n",
        "nltk.download('punkt')\n"
      ]
    },
    {
      "cell_type": "code",
      "execution_count": 23,
      "metadata": {
        "colab": {
          "base_uri": "https://localhost:8080/"
        },
        "id": "PZI-AFvGRrB9",
        "outputId": "d82c77e3-b54c-497c-8d01-3a2d4af5f4b1"
      },
      "outputs": [
        {
          "output_type": "stream",
          "name": "stdout",
          "text": [
            "Downloading...\n",
            "From: https://drive.google.com/uc?id=11LWo5nagSmC72hOJM9lm2l05sdQxt4rf\n",
            "To: /content/corona_tweets.csv\n",
            "\r  0% 0.00/1.00M [00:00<?, ?B/s]\r100% 1.00M/1.00M [00:00<00:00, 22.0MB/s]\n"
          ]
        }
      ],
      "source": [
        "!gdown 11LWo5nagSmC72hOJM9lm2l05sdQxt4rf"
      ]
    },
    {
      "cell_type": "code",
      "execution_count": 24,
      "metadata": {
        "colab": {
          "base_uri": "https://localhost:8080/",
          "height": 206
        },
        "id": "vduFDTR4lmbd",
        "outputId": "58ba94e0-856e-49e2-ecc4-70c2df687716"
      },
      "outputs": [
        {
          "output_type": "execute_result",
          "data": {
            "text/plain": [
              "   UserName  ScreenName             Location     TweetAt  \\\n",
              "0         1       44953                  NYC  02-03-2020   \n",
              "1         2       44954          Seattle, WA  02-03-2020   \n",
              "2         3       44955                  NaN  02-03-2020   \n",
              "3         4       44956          Chicagoland  02-03-2020   \n",
              "4         5       44957  Melbourne, Victoria  03-03-2020   \n",
              "\n",
              "                                       OriginalTweet           Sentiment  \n",
              "0  TRENDING: New Yorkers encounter empty supermar...  Extremely Negative  \n",
              "1  When I couldn't find hand sanitizer at Fred Me...            Positive  \n",
              "2  Find out how you can protect yourself and love...  Extremely Positive  \n",
              "3  #Panic buying hits #NewYork City as anxious sh...            Negative  \n",
              "4  #toiletpaper #dunnypaper #coronavirus #coronav...             Neutral  "
            ],
            "text/html": [
              "\n",
              "  <div id=\"df-a8e4852a-8e34-441d-b0ba-07dca1e8ff90\" class=\"colab-df-container\">\n",
              "    <div>\n",
              "<style scoped>\n",
              "    .dataframe tbody tr th:only-of-type {\n",
              "        vertical-align: middle;\n",
              "    }\n",
              "\n",
              "    .dataframe tbody tr th {\n",
              "        vertical-align: top;\n",
              "    }\n",
              "\n",
              "    .dataframe thead th {\n",
              "        text-align: right;\n",
              "    }\n",
              "</style>\n",
              "<table border=\"1\" class=\"dataframe\">\n",
              "  <thead>\n",
              "    <tr style=\"text-align: right;\">\n",
              "      <th></th>\n",
              "      <th>UserName</th>\n",
              "      <th>ScreenName</th>\n",
              "      <th>Location</th>\n",
              "      <th>TweetAt</th>\n",
              "      <th>OriginalTweet</th>\n",
              "      <th>Sentiment</th>\n",
              "    </tr>\n",
              "  </thead>\n",
              "  <tbody>\n",
              "    <tr>\n",
              "      <th>0</th>\n",
              "      <td>1</td>\n",
              "      <td>44953</td>\n",
              "      <td>NYC</td>\n",
              "      <td>02-03-2020</td>\n",
              "      <td>TRENDING: New Yorkers encounter empty supermar...</td>\n",
              "      <td>Extremely Negative</td>\n",
              "    </tr>\n",
              "    <tr>\n",
              "      <th>1</th>\n",
              "      <td>2</td>\n",
              "      <td>44954</td>\n",
              "      <td>Seattle, WA</td>\n",
              "      <td>02-03-2020</td>\n",
              "      <td>When I couldn't find hand sanitizer at Fred Me...</td>\n",
              "      <td>Positive</td>\n",
              "    </tr>\n",
              "    <tr>\n",
              "      <th>2</th>\n",
              "      <td>3</td>\n",
              "      <td>44955</td>\n",
              "      <td>NaN</td>\n",
              "      <td>02-03-2020</td>\n",
              "      <td>Find out how you can protect yourself and love...</td>\n",
              "      <td>Extremely Positive</td>\n",
              "    </tr>\n",
              "    <tr>\n",
              "      <th>3</th>\n",
              "      <td>4</td>\n",
              "      <td>44956</td>\n",
              "      <td>Chicagoland</td>\n",
              "      <td>02-03-2020</td>\n",
              "      <td>#Panic buying hits #NewYork City as anxious sh...</td>\n",
              "      <td>Negative</td>\n",
              "    </tr>\n",
              "    <tr>\n",
              "      <th>4</th>\n",
              "      <td>5</td>\n",
              "      <td>44957</td>\n",
              "      <td>Melbourne, Victoria</td>\n",
              "      <td>03-03-2020</td>\n",
              "      <td>#toiletpaper #dunnypaper #coronavirus #coronav...</td>\n",
              "      <td>Neutral</td>\n",
              "    </tr>\n",
              "  </tbody>\n",
              "</table>\n",
              "</div>\n",
              "    <div class=\"colab-df-buttons\">\n",
              "\n",
              "  <div class=\"colab-df-container\">\n",
              "    <button class=\"colab-df-convert\" onclick=\"convertToInteractive('df-a8e4852a-8e34-441d-b0ba-07dca1e8ff90')\"\n",
              "            title=\"Convert this dataframe to an interactive table.\"\n",
              "            style=\"display:none;\">\n",
              "\n",
              "  <svg xmlns=\"http://www.w3.org/2000/svg\" height=\"24px\" viewBox=\"0 -960 960 960\">\n",
              "    <path d=\"M120-120v-720h720v720H120Zm60-500h600v-160H180v160Zm220 220h160v-160H400v160Zm0 220h160v-160H400v160ZM180-400h160v-160H180v160Zm440 0h160v-160H620v160ZM180-180h160v-160H180v160Zm440 0h160v-160H620v160Z\"/>\n",
              "  </svg>\n",
              "    </button>\n",
              "\n",
              "  <style>\n",
              "    .colab-df-container {\n",
              "      display:flex;\n",
              "      gap: 12px;\n",
              "    }\n",
              "\n",
              "    .colab-df-convert {\n",
              "      background-color: #E8F0FE;\n",
              "      border: none;\n",
              "      border-radius: 50%;\n",
              "      cursor: pointer;\n",
              "      display: none;\n",
              "      fill: #1967D2;\n",
              "      height: 32px;\n",
              "      padding: 0 0 0 0;\n",
              "      width: 32px;\n",
              "    }\n",
              "\n",
              "    .colab-df-convert:hover {\n",
              "      background-color: #E2EBFA;\n",
              "      box-shadow: 0px 1px 2px rgba(60, 64, 67, 0.3), 0px 1px 3px 1px rgba(60, 64, 67, 0.15);\n",
              "      fill: #174EA6;\n",
              "    }\n",
              "\n",
              "    .colab-df-buttons div {\n",
              "      margin-bottom: 4px;\n",
              "    }\n",
              "\n",
              "    [theme=dark] .colab-df-convert {\n",
              "      background-color: #3B4455;\n",
              "      fill: #D2E3FC;\n",
              "    }\n",
              "\n",
              "    [theme=dark] .colab-df-convert:hover {\n",
              "      background-color: #434B5C;\n",
              "      box-shadow: 0px 1px 3px 1px rgba(0, 0, 0, 0.15);\n",
              "      filter: drop-shadow(0px 1px 2px rgba(0, 0, 0, 0.3));\n",
              "      fill: #FFFFFF;\n",
              "    }\n",
              "  </style>\n",
              "\n",
              "    <script>\n",
              "      const buttonEl =\n",
              "        document.querySelector('#df-a8e4852a-8e34-441d-b0ba-07dca1e8ff90 button.colab-df-convert');\n",
              "      buttonEl.style.display =\n",
              "        google.colab.kernel.accessAllowed ? 'block' : 'none';\n",
              "\n",
              "      async function convertToInteractive(key) {\n",
              "        const element = document.querySelector('#df-a8e4852a-8e34-441d-b0ba-07dca1e8ff90');\n",
              "        const dataTable =\n",
              "          await google.colab.kernel.invokeFunction('convertToInteractive',\n",
              "                                                    [key], {});\n",
              "        if (!dataTable) return;\n",
              "\n",
              "        const docLinkHtml = 'Like what you see? Visit the ' +\n",
              "          '<a target=\"_blank\" href=https://colab.research.google.com/notebooks/data_table.ipynb>data table notebook</a>'\n",
              "          + ' to learn more about interactive tables.';\n",
              "        element.innerHTML = '';\n",
              "        dataTable['output_type'] = 'display_data';\n",
              "        await google.colab.output.renderOutput(dataTable, element);\n",
              "        const docLink = document.createElement('div');\n",
              "        docLink.innerHTML = docLinkHtml;\n",
              "        element.appendChild(docLink);\n",
              "      }\n",
              "    </script>\n",
              "  </div>\n",
              "\n",
              "\n",
              "<div id=\"df-bf0be2aa-b387-48df-81a9-b56b9a5febd8\">\n",
              "  <button class=\"colab-df-quickchart\" onclick=\"quickchart('df-bf0be2aa-b387-48df-81a9-b56b9a5febd8')\"\n",
              "            title=\"Suggest charts\"\n",
              "            style=\"display:none;\">\n",
              "\n",
              "<svg xmlns=\"http://www.w3.org/2000/svg\" height=\"24px\"viewBox=\"0 0 24 24\"\n",
              "     width=\"24px\">\n",
              "    <g>\n",
              "        <path d=\"M19 3H5c-1.1 0-2 .9-2 2v14c0 1.1.9 2 2 2h14c1.1 0 2-.9 2-2V5c0-1.1-.9-2-2-2zM9 17H7v-7h2v7zm4 0h-2V7h2v10zm4 0h-2v-4h2v4z\"/>\n",
              "    </g>\n",
              "</svg>\n",
              "  </button>\n",
              "\n",
              "<style>\n",
              "  .colab-df-quickchart {\n",
              "      --bg-color: #E8F0FE;\n",
              "      --fill-color: #1967D2;\n",
              "      --hover-bg-color: #E2EBFA;\n",
              "      --hover-fill-color: #174EA6;\n",
              "      --disabled-fill-color: #AAA;\n",
              "      --disabled-bg-color: #DDD;\n",
              "  }\n",
              "\n",
              "  [theme=dark] .colab-df-quickchart {\n",
              "      --bg-color: #3B4455;\n",
              "      --fill-color: #D2E3FC;\n",
              "      --hover-bg-color: #434B5C;\n",
              "      --hover-fill-color: #FFFFFF;\n",
              "      --disabled-bg-color: #3B4455;\n",
              "      --disabled-fill-color: #666;\n",
              "  }\n",
              "\n",
              "  .colab-df-quickchart {\n",
              "    background-color: var(--bg-color);\n",
              "    border: none;\n",
              "    border-radius: 50%;\n",
              "    cursor: pointer;\n",
              "    display: none;\n",
              "    fill: var(--fill-color);\n",
              "    height: 32px;\n",
              "    padding: 0;\n",
              "    width: 32px;\n",
              "  }\n",
              "\n",
              "  .colab-df-quickchart:hover {\n",
              "    background-color: var(--hover-bg-color);\n",
              "    box-shadow: 0 1px 2px rgba(60, 64, 67, 0.3), 0 1px 3px 1px rgba(60, 64, 67, 0.15);\n",
              "    fill: var(--button-hover-fill-color);\n",
              "  }\n",
              "\n",
              "  .colab-df-quickchart-complete:disabled,\n",
              "  .colab-df-quickchart-complete:disabled:hover {\n",
              "    background-color: var(--disabled-bg-color);\n",
              "    fill: var(--disabled-fill-color);\n",
              "    box-shadow: none;\n",
              "  }\n",
              "\n",
              "  .colab-df-spinner {\n",
              "    border: 2px solid var(--fill-color);\n",
              "    border-color: transparent;\n",
              "    border-bottom-color: var(--fill-color);\n",
              "    animation:\n",
              "      spin 1s steps(1) infinite;\n",
              "  }\n",
              "\n",
              "  @keyframes spin {\n",
              "    0% {\n",
              "      border-color: transparent;\n",
              "      border-bottom-color: var(--fill-color);\n",
              "      border-left-color: var(--fill-color);\n",
              "    }\n",
              "    20% {\n",
              "      border-color: transparent;\n",
              "      border-left-color: var(--fill-color);\n",
              "      border-top-color: var(--fill-color);\n",
              "    }\n",
              "    30% {\n",
              "      border-color: transparent;\n",
              "      border-left-color: var(--fill-color);\n",
              "      border-top-color: var(--fill-color);\n",
              "      border-right-color: var(--fill-color);\n",
              "    }\n",
              "    40% {\n",
              "      border-color: transparent;\n",
              "      border-right-color: var(--fill-color);\n",
              "      border-top-color: var(--fill-color);\n",
              "    }\n",
              "    60% {\n",
              "      border-color: transparent;\n",
              "      border-right-color: var(--fill-color);\n",
              "    }\n",
              "    80% {\n",
              "      border-color: transparent;\n",
              "      border-right-color: var(--fill-color);\n",
              "      border-bottom-color: var(--fill-color);\n",
              "    }\n",
              "    90% {\n",
              "      border-color: transparent;\n",
              "      border-bottom-color: var(--fill-color);\n",
              "    }\n",
              "  }\n",
              "</style>\n",
              "\n",
              "  <script>\n",
              "    async function quickchart(key) {\n",
              "      const quickchartButtonEl =\n",
              "        document.querySelector('#' + key + ' button');\n",
              "      quickchartButtonEl.disabled = true;  // To prevent multiple clicks.\n",
              "      quickchartButtonEl.classList.add('colab-df-spinner');\n",
              "      try {\n",
              "        const charts = await google.colab.kernel.invokeFunction(\n",
              "            'suggestCharts', [key], {});\n",
              "      } catch (error) {\n",
              "        console.error('Error during call to suggestCharts:', error);\n",
              "      }\n",
              "      quickchartButtonEl.classList.remove('colab-df-spinner');\n",
              "      quickchartButtonEl.classList.add('colab-df-quickchart-complete');\n",
              "    }\n",
              "    (() => {\n",
              "      let quickchartButtonEl =\n",
              "        document.querySelector('#df-bf0be2aa-b387-48df-81a9-b56b9a5febd8 button');\n",
              "      quickchartButtonEl.style.display =\n",
              "        google.colab.kernel.accessAllowed ? 'block' : 'none';\n",
              "    })();\n",
              "  </script>\n",
              "</div>\n",
              "\n",
              "    </div>\n",
              "  </div>\n"
            ],
            "application/vnd.google.colaboratory.intrinsic+json": {
              "type": "dataframe",
              "variable_name": "df",
              "summary": "{\n  \"name\": \"df\",\n  \"rows\": 3798,\n  \"fields\": [\n    {\n      \"column\": \"UserName\",\n      \"properties\": {\n        \"dtype\": \"number\",\n        \"std\": 1096,\n        \"min\": 1,\n        \"max\": 3798,\n        \"num_unique_values\": 3798,\n        \"samples\": [\n          1071,\n          355,\n          882\n        ],\n        \"semantic_type\": \"\",\n        \"description\": \"\"\n      }\n    },\n    {\n      \"column\": \"ScreenName\",\n      \"properties\": {\n        \"dtype\": \"number\",\n        \"std\": 1096,\n        \"min\": 44953,\n        \"max\": 48750,\n        \"num_unique_values\": 3798,\n        \"samples\": [\n          46023,\n          45307,\n          45834\n        ],\n        \"semantic_type\": \"\",\n        \"description\": \"\"\n      }\n    },\n    {\n      \"column\": \"Location\",\n      \"properties\": {\n        \"dtype\": \"category\",\n        \"num_unique_values\": 1717,\n        \"samples\": [\n          \"Ottawa, Canada\",\n          \"Lebanon\",\n          \"HousePriceMania\"\n        ],\n        \"semantic_type\": \"\",\n        \"description\": \"\"\n      }\n    },\n    {\n      \"column\": \"TweetAt\",\n      \"properties\": {\n        \"dtype\": \"category\",\n        \"num_unique_values\": 15,\n        \"samples\": [\n          \"11-03-2020\",\n          \"13-03-2020\",\n          \"02-03-2020\"\n        ],\n        \"semantic_type\": \"\",\n        \"description\": \"\"\n      }\n    },\n    {\n      \"column\": \"OriginalTweet\",\n      \"properties\": {\n        \"dtype\": \"string\",\n        \"num_unique_values\": 3798,\n        \"samples\": [\n          \"At my local grocery store in New Hampshire... #coronavirus #Covid_19 #NationalEmergency https://t.co/AXuMBSfNU9\",\n          \"Seeing resellers sell masks, alcohols and other necessities in prices which are 5-15x more expensive compared to SRPs makes me wonder how can people be so heartless, insensitive, and opportunistic in these times of crisis. #COVID2019\",\n          \"Where did coronavirus come from, and where will it take us? An interview with Rob Wallace, author of Big Farms Make Big Flu\\r\\r\\n\\r\\r\\nhttps://t.co/Hqp68iu1iN https://t.co/dR4Ys2hCOy\"\n        ],\n        \"semantic_type\": \"\",\n        \"description\": \"\"\n      }\n    },\n    {\n      \"column\": \"Sentiment\",\n      \"properties\": {\n        \"dtype\": \"category\",\n        \"num_unique_values\": 5,\n        \"samples\": [\n          \"Positive\",\n          \"Neutral\",\n          \"Extremely Positive\"\n        ],\n        \"semantic_type\": \"\",\n        \"description\": \"\"\n      }\n    }\n  ]\n}"
            }
          },
          "metadata": {},
          "execution_count": 24
        }
      ],
      "source": [
        "df = pd.read_csv(\"./corona_tweets.csv\")\n",
        "df.head()"
      ]
    },
    {
      "cell_type": "markdown",
      "metadata": {
        "id": "b68qqhiKv-9i"
      },
      "source": [
        "### Exploring the labels"
      ]
    },
    {
      "cell_type": "code",
      "execution_count": 25,
      "metadata": {
        "colab": {
          "base_uri": "https://localhost:8080/",
          "height": 542
        },
        "id": "6uIWsLF9BdIY",
        "outputId": "85721c1f-d42b-4d33-a1e9-79e2973dd1e5"
      },
      "outputs": [
        {
          "output_type": "display_data",
          "data": {
            "text/html": [
              "<html>\n",
              "<head><meta charset=\"utf-8\" /></head>\n",
              "<body>\n",
              "    <div>            <script src=\"https://cdnjs.cloudflare.com/ajax/libs/mathjax/2.7.5/MathJax.js?config=TeX-AMS-MML_SVG\"></script><script type=\"text/javascript\">if (window.MathJax && window.MathJax.Hub && window.MathJax.Hub.Config) {window.MathJax.Hub.Config({SVG: {font: \"STIX-Web\"}});}</script>                <script type=\"text/javascript\">window.PlotlyConfig = {MathJaxConfig: 'local'};</script>\n",
              "        <script charset=\"utf-8\" src=\"https://cdn.plot.ly/plotly-2.35.2.min.js\"></script>                <div id=\"1c6656c6-232d-49f0-8a9c-e840c0621290\" class=\"plotly-graph-div\" style=\"height:525px; width:100%;\"></div>            <script type=\"text/javascript\">                                    window.PLOTLYENV=window.PLOTLYENV || {};                                    if (document.getElementById(\"1c6656c6-232d-49f0-8a9c-e840c0621290\")) {                    Plotly.newPlot(                        \"1c6656c6-232d-49f0-8a9c-e840c0621290\",                        [{\"domain\":{\"x\":[0.0,1.0],\"y\":[0.0,1.0]},\"hole\":0.3,\"hovertemplate\":\"Sentiment=%{label}\\u003cextra\\u003e\\u003c\\u002fextra\\u003e\",\"labels\":[\"Extremely Negative\",\"Positive\",\"Extremely Positive\",\"Negative\",\"Neutral\",\"Neutral\",\"Positive\",\"Neutral\",\"Extremely Negative\",\"Extremely Positive\",\"Positive\",\"Extremely Negative\",\"Extremely Negative\",\"Extremely Positive\",\"Positive\",\"Extremely Negative\",\"Extremely Positive\",\"Neutral\",\"Positive\",\"Extremely Positive\",\"Negative\",\"Extremely Positive\",\"Extremely Positive\",\"Extremely Positive\",\"Extremely Negative\",\"Positive\",\"Negative\",\"Negative\",\"Negative\",\"Positive\",\"Negative\",\"Extremely Positive\",\"Extremely Negative\",\"Extremely Negative\",\"Neutral\",\"Extremely Negative\",\"Negative\",\"Neutral\",\"Negative\",\"Extremely Positive\",\"Positive\",\"Negative\",\"Neutral\",\"Positive\",\"Positive\",\"Extremely Positive\",\"Extremely Positive\",\"Extremely Negative\",\"Extremely Negative\",\"Extremely Negative\",\"Extremely Negative\",\"Neutral\",\"Negative\",\"Extremely Positive\",\"Extremely Negative\",\"Negative\",\"Negative\",\"Positive\",\"Positive\",\"Neutral\",\"Extremely Negative\",\"Extremely Negative\",\"Extremely Positive\",\"Extremely Negative\",\"Positive\",\"Negative\",\"Positive\",\"Extremely Positive\",\"Positive\",\"Positive\",\"Negative\",\"Extremely Positive\",\"Positive\",\"Negative\",\"Neutral\",\"Extremely Negative\",\"Negative\",\"Positive\",\"Positive\",\"Positive\",\"Extremely Negative\",\"Negative\",\"Extremely Positive\",\"Negative\",\"Negative\",\"Negative\",\"Negative\",\"Neutral\",\"Negative\",\"Negative\",\"Negative\",\"Negative\",\"Positive\",\"Negative\",\"Negative\",\"Extremely Positive\",\"Neutral\",\"Extremely Positive\",\"Extremely Negative\",\"Neutral\",\"Positive\",\"Neutral\",\"Positive\",\"Positive\",\"Neutral\",\"Extremely Positive\",\"Positive\",\"Negative\",\"Negative\",\"Negative\",\"Negative\",\"Positive\",\"Extremely Positive\",\"Negative\",\"Positive\",\"Negative\",\"Negative\",\"Extremely Positive\",\"Negative\",\"Neutral\",\"Positive\",\"Extremely Positive\",\"Neutral\",\"Negative\",\"Extremely Negative\",\"Extremely Negative\",\"Positive\",\"Positive\",\"Negative\",\"Extremely Negative\",\"Negative\",\"Positive\",\"Extremely Negative\",\"Negative\",\"Extremely Negative\",\"Extremely Positive\",\"Extremely Positive\",\"Negative\",\"Extremely Positive\",\"Neutral\",\"Extremely Positive\",\"Extremely Positive\",\"Neutral\",\"Neutral\",\"Positive\",\"Positive\",\"Negative\",\"Negative\",\"Negative\",\"Positive\",\"Negative\",\"Extremely Positive\",\"Neutral\",\"Extremely Negative\",\"Neutral\",\"Negative\",\"Negative\",\"Negative\",\"Positive\",\"Extremely Negative\",\"Positive\",\"Positive\",\"Extremely Positive\",\"Neutral\",\"Neutral\",\"Positive\",\"Negative\",\"Neutral\",\"Positive\",\"Extremely Positive\",\"Negative\",\"Extremely Positive\",\"Neutral\",\"Positive\",\"Extremely Positive\",\"Neutral\",\"Neutral\",\"Positive\",\"Negative\",\"Neutral\",\"Neutral\",\"Extremely Positive\",\"Neutral\",\"Positive\",\"Extremely Negative\",\"Extremely Positive\",\"Neutral\",\"Positive\",\"Positive\",\"Negative\",\"Extremely Positive\",\"Extremely Positive\",\"Positive\",\"Extremely Positive\",\"Negative\",\"Positive\",\"Neutral\",\"Positive\",\"Extremely Positive\",\"Negative\",\"Negative\",\"Positive\",\"Positive\",\"Extremely Positive\",\"Positive\",\"Negative\",\"Negative\",\"Extremely Positive\",\"Neutral\",\"Positive\",\"Extremely Negative\",\"Negative\",\"Positive\",\"Positive\",\"Positive\",\"Negative\",\"Extremely Negative\",\"Neutral\",\"Neutral\",\"Negative\",\"Neutral\",\"Positive\",\"Negative\",\"Negative\",\"Positive\",\"Positive\",\"Neutral\",\"Positive\",\"Negative\",\"Extremely Negative\",\"Extremely Negative\",\"Positive\",\"Neutral\",\"Neutral\",\"Negative\",\"Positive\",\"Extremely Positive\",\"Neutral\",\"Neutral\",\"Positive\",\"Extremely Positive\",\"Positive\",\"Negative\",\"Positive\",\"Negative\",\"Extremely Negative\",\"Positive\",\"Negative\",\"Neutral\",\"Negative\",\"Neutral\",\"Neutral\",\"Positive\",\"Extremely Positive\",\"Positive\",\"Positive\",\"Positive\",\"Positive\",\"Extremely Positive\",\"Extremely Negative\",\"Negative\",\"Extremely Positive\",\"Extremely Negative\",\"Positive\",\"Negative\",\"Positive\",\"Positive\",\"Negative\",\"Negative\",\"Negative\",\"Neutral\",\"Positive\",\"Neutral\",\"Extremely Negative\",\"Extremely Positive\",\"Positive\",\"Negative\",\"Extremely Negative\",\"Extremely Positive\",\"Negative\",\"Extremely Positive\",\"Neutral\",\"Positive\",\"Positive\",\"Extremely Negative\",\"Positive\",\"Negative\",\"Neutral\",\"Extremely Negative\",\"Extremely Negative\",\"Negative\",\"Negative\",\"Negative\",\"Negative\",\"Negative\",\"Extremely Positive\",\"Positive\",\"Positive\",\"Positive\",\"Neutral\",\"Neutral\",\"Extremely Negative\",\"Extremely Negative\",\"Negative\",\"Negative\",\"Extremely Positive\",\"Extremely Negative\",\"Extremely Negative\",\"Extremely Negative\",\"Negative\",\"Negative\",\"Positive\",\"Negative\",\"Negative\",\"Negative\",\"Negative\",\"Neutral\",\"Extremely Negative\",\"Extremely Positive\",\"Positive\",\"Neutral\",\"Negative\",\"Extremely Negative\",\"Negative\",\"Negative\",\"Extremely Positive\",\"Extremely Positive\",\"Positive\",\"Neutral\",\"Positive\",\"Neutral\",\"Extremely Positive\",\"Negative\",\"Extremely Negative\",\"Negative\",\"Neutral\",\"Neutral\",\"Negative\",\"Positive\",\"Positive\",\"Extremely Negative\",\"Negative\",\"Extremely Negative\",\"Extremely Positive\",\"Negative\",\"Neutral\",\"Positive\",\"Positive\",\"Positive\",\"Positive\",\"Negative\",\"Positive\",\"Negative\",\"Positive\",\"Extremely Negative\",\"Positive\",\"Negative\",\"Negative\",\"Positive\",\"Extremely Positive\",\"Extremely Negative\",\"Extremely Positive\",\"Positive\",\"Negative\",\"Negative\",\"Extremely Positive\",\"Negative\",\"Positive\",\"Neutral\",\"Extremely Positive\",\"Extremely Positive\",\"Extremely Negative\",\"Negative\",\"Neutral\",\"Extremely Positive\",\"Negative\",\"Neutral\",\"Neutral\",\"Extremely Positive\",\"Positive\",\"Negative\",\"Negative\",\"Extremely Positive\",\"Extremely Positive\",\"Extremely Positive\",\"Positive\",\"Neutral\",\"Extremely Positive\",\"Positive\",\"Positive\",\"Neutral\",\"Negative\",\"Positive\",\"Negative\",\"Negative\",\"Extremely Positive\",\"Extremely Positive\",\"Extremely Negative\",\"Extremely Negative\",\"Extremely Negative\",\"Positive\",\"Neutral\",\"Extremely Negative\",\"Positive\",\"Extremely Negative\",\"Negative\",\"Positive\",\"Negative\",\"Extremely Negative\",\"Extremely Positive\",\"Negative\",\"Positive\",\"Positive\",\"Positive\",\"Positive\",\"Negative\",\"Negative\",\"Neutral\",\"Neutral\",\"Negative\",\"Extremely Positive\",\"Extremely Positive\",\"Extremely Negative\",\"Negative\",\"Positive\",\"Extremely Positive\",\"Extremely Negative\",\"Neutral\",\"Extremely Positive\",\"Positive\",\"Negative\",\"Positive\",\"Extremely Negative\",\"Positive\",\"Negative\",\"Negative\",\"Extremely Negative\",\"Extremely Negative\",\"Extremely Positive\",\"Extremely Negative\",\"Extremely Negative\",\"Negative\",\"Extremely Negative\",\"Positive\",\"Positive\",\"Positive\",\"Extremely Positive\",\"Negative\",\"Negative\",\"Negative\",\"Neutral\",\"Neutral\",\"Extremely Negative\",\"Neutral\",\"Neutral\",\"Negative\",\"Positive\",\"Negative\",\"Extremely Positive\",\"Positive\",\"Extremely Positive\",\"Negative\",\"Neutral\",\"Neutral\",\"Negative\",\"Positive\",\"Negative\",\"Positive\",\"Negative\",\"Positive\",\"Neutral\",\"Neutral\",\"Extremely Positive\",\"Negative\",\"Negative\",\"Neutral\",\"Extremely Negative\",\"Neutral\",\"Extremely Negative\",\"Negative\",\"Negative\",\"Positive\",\"Negative\",\"Extremely Negative\",\"Neutral\",\"Extremely Positive\",\"Extremely Negative\",\"Negative\",\"Neutral\",\"Extremely Positive\",\"Negative\",\"Positive\",\"Negative\",\"Neutral\",\"Positive\",\"Extremely Positive\",\"Negative\",\"Extremely Positive\",\"Extremely Positive\",\"Negative\",\"Negative\",\"Positive\",\"Positive\",\"Extremely Positive\",\"Negative\",\"Extremely Positive\",\"Neutral\",\"Negative\",\"Extremely Positive\",\"Negative\",\"Positive\",\"Negative\",\"Extremely Positive\",\"Negative\",\"Extremely Negative\",\"Positive\",\"Extremely Negative\",\"Neutral\",\"Negative\",\"Extremely Negative\",\"Neutral\",\"Negative\",\"Negative\",\"Negative\",\"Positive\",\"Extremely Positive\",\"Neutral\",\"Neutral\",\"Extremely Negative\",\"Extremely Positive\",\"Positive\",\"Negative\",\"Neutral\",\"Neutral\",\"Extremely Positive\",\"Neutral\",\"Positive\",\"Extremely Negative\",\"Negative\",\"Negative\",\"Extremely Negative\",\"Negative\",\"Neutral\",\"Negative\",\"Negative\",\"Negative\",\"Extremely Negative\",\"Positive\",\"Extremely Negative\",\"Negative\",\"Extremely Negative\",\"Negative\",\"Neutral\",\"Positive\",\"Negative\",\"Neutral\",\"Negative\",\"Negative\",\"Negative\",\"Neutral\",\"Extremely Negative\",\"Positive\",\"Positive\",\"Extremely Positive\",\"Positive\",\"Extremely Negative\",\"Positive\",\"Positive\",\"Extremely Negative\",\"Positive\",\"Positive\",\"Negative\",\"Negative\",\"Neutral\",\"Positive\",\"Neutral\",\"Negative\",\"Negative\",\"Extremely Positive\",\"Negative\",\"Extremely Negative\",\"Negative\",\"Extremely Positive\",\"Extremely Negative\",\"Neutral\",\"Extremely Negative\",\"Negative\",\"Negative\",\"Negative\",\"Extremely Negative\",\"Extremely Positive\",\"Positive\",\"Positive\",\"Negative\",\"Negative\",\"Neutral\",\"Positive\",\"Extremely Positive\",\"Negative\",\"Negative\",\"Positive\",\"Positive\",\"Extremely Positive\",\"Negative\",\"Negative\",\"Neutral\",\"Negative\",\"Negative\",\"Neutral\",\"Extremely Negative\",\"Negative\",\"Neutral\",\"Positive\",\"Negative\",\"Extremely Positive\",\"Negative\",\"Extremely Positive\",\"Positive\",\"Positive\",\"Neutral\",\"Neutral\",\"Negative\",\"Negative\",\"Extremely Negative\",\"Negative\",\"Positive\",\"Extremely Positive\",\"Positive\",\"Extremely Positive\",\"Negative\",\"Extremely Negative\",\"Negative\",\"Extremely Positive\",\"Extremely Positive\",\"Positive\",\"Positive\",\"Negative\",\"Negative\",\"Neutral\",\"Positive\",\"Positive\",\"Extremely Negative\",\"Negative\",\"Positive\",\"Extremely Negative\",\"Neutral\",\"Extremely Positive\",\"Negative\",\"Negative\",\"Negative\",\"Neutral\",\"Neutral\",\"Negative\",\"Negative\",\"Negative\",\"Positive\",\"Positive\",\"Positive\",\"Extremely Negative\",\"Extremely Positive\",\"Negative\",\"Negative\",\"Extremely Negative\",\"Neutral\",\"Negative\",\"Extremely Negative\",\"Positive\",\"Positive\",\"Negative\",\"Extremely Positive\",\"Extremely Positive\",\"Positive\",\"Extremely Positive\",\"Positive\",\"Positive\",\"Negative\",\"Negative\",\"Neutral\",\"Negative\",\"Negative\",\"Positive\",\"Neutral\",\"Extremely Negative\",\"Extremely Positive\",\"Negative\",\"Positive\",\"Negative\",\"Negative\",\"Extremely Negative\",\"Negative\",\"Extremely Positive\",\"Extremely Positive\",\"Positive\",\"Neutral\",\"Extremely Positive\",\"Negative\",\"Extremely Positive\",\"Positive\",\"Positive\",\"Negative\",\"Neutral\",\"Extremely Negative\",\"Negative\",\"Negative\",\"Negative\",\"Negative\",\"Extremely Positive\",\"Extremely Negative\",\"Extremely Positive\",\"Extremely Negative\",\"Negative\",\"Negative\",\"Extremely Positive\",\"Positive\",\"Positive\",\"Extremely Negative\",\"Neutral\",\"Negative\",\"Extremely Negative\",\"Extremely Negative\",\"Negative\",\"Extremely Positive\",\"Positive\",\"Negative\",\"Negative\",\"Positive\",\"Positive\",\"Positive\",\"Positive\",\"Extremely Negative\",\"Extremely Positive\",\"Extremely Positive\",\"Extremely Positive\",\"Neutral\",\"Positive\",\"Positive\",\"Negative\",\"Extremely Positive\",\"Extremely Positive\",\"Extremely Negative\",\"Positive\",\"Extremely Positive\",\"Negative\",\"Negative\",\"Extremely Negative\",\"Extremely Positive\",\"Positive\",\"Positive\",\"Neutral\",\"Positive\",\"Negative\",\"Negative\",\"Positive\",\"Extremely Negative\",\"Negative\",\"Extremely Positive\",\"Extremely Negative\",\"Negative\",\"Positive\",\"Extremely Positive\",\"Extremely Positive\",\"Neutral\",\"Negative\",\"Neutral\",\"Negative\",\"Extremely Positive\",\"Negative\",\"Positive\",\"Negative\",\"Positive\",\"Positive\",\"Extremely Negative\",\"Positive\",\"Positive\",\"Negative\",\"Extremely Negative\",\"Negative\",\"Negative\",\"Negative\",\"Extremely Positive\",\"Negative\",\"Negative\",\"Negative\",\"Positive\",\"Negative\",\"Negative\",\"Negative\",\"Negative\",\"Positive\",\"Negative\",\"Extremely Positive\",\"Neutral\",\"Extremely Positive\",\"Extremely Negative\",\"Positive\",\"Extremely Positive\",\"Negative\",\"Negative\",\"Negative\",\"Positive\",\"Positive\",\"Positive\",\"Positive\",\"Neutral\",\"Extremely Positive\",\"Extremely Positive\",\"Neutral\",\"Positive\",\"Negative\",\"Negative\",\"Negative\",\"Positive\",\"Negative\",\"Extremely Negative\",\"Negative\",\"Negative\",\"Extremely Negative\",\"Extremely Positive\",\"Positive\",\"Positive\",\"Positive\",\"Negative\",\"Extremely Negative\",\"Extremely Positive\",\"Positive\",\"Negative\",\"Neutral\",\"Extremely Positive\",\"Extremely Positive\",\"Positive\",\"Extremely Negative\",\"Extremely Positive\",\"Negative\",\"Positive\",\"Extremely Positive\",\"Negative\",\"Neutral\",\"Positive\",\"Negative\",\"Positive\",\"Neutral\",\"Extremely Positive\",\"Extremely Positive\",\"Extremely Positive\",\"Neutral\",\"Negative\",\"Positive\",\"Extremely Negative\",\"Neutral\",\"Negative\",\"Extremely Negative\",\"Negative\",\"Positive\",\"Positive\",\"Extremely Negative\",\"Extremely Negative\",\"Positive\",\"Extremely Negative\",\"Extremely Positive\",\"Positive\",\"Negative\",\"Neutral\",\"Negative\",\"Neutral\",\"Neutral\",\"Extremely Negative\",\"Positive\",\"Neutral\",\"Negative\",\"Neutral\",\"Negative\",\"Extremely Positive\",\"Neutral\",\"Positive\",\"Negative\",\"Negative\",\"Neutral\",\"Extremely Positive\",\"Extremely Positive\",\"Extremely Positive\",\"Neutral\",\"Extremely Negative\",\"Extremely Positive\",\"Extremely Negative\",\"Neutral\",\"Neutral\",\"Positive\",\"Negative\",\"Negative\",\"Negative\",\"Extremely Negative\",\"Extremely Negative\",\"Extremely Positive\",\"Negative\",\"Neutral\",\"Positive\",\"Neutral\",\"Extremely Positive\",\"Negative\",\"Negative\",\"Neutral\",\"Negative\",\"Extremely Negative\",\"Positive\",\"Neutral\",\"Positive\",\"Positive\",\"Extremely Positive\",\"Negative\",\"Extremely Negative\",\"Negative\",\"Negative\",\"Extremely Positive\",\"Negative\",\"Neutral\",\"Positive\",\"Neutral\",\"Positive\",\"Neutral\",\"Positive\",\"Extremely Positive\",\"Extremely Negative\",\"Negative\",\"Negative\",\"Extremely Positive\",\"Neutral\",\"Extremely Negative\",\"Extremely Positive\",\"Negative\",\"Extremely Negative\",\"Extremely Positive\",\"Positive\",\"Neutral\",\"Extremely Negative\",\"Positive\",\"Extremely Negative\",\"Negative\",\"Negative\",\"Negative\",\"Negative\",\"Positive\",\"Extremely Negative\",\"Negative\",\"Neutral\",\"Neutral\",\"Negative\",\"Extremely Positive\",\"Extremely Negative\",\"Neutral\",\"Positive\",\"Extremely Negative\",\"Extremely Positive\",\"Neutral\",\"Positive\",\"Positive\",\"Positive\",\"Positive\",\"Negative\",\"Extremely Negative\",\"Negative\",\"Extremely Negative\",\"Positive\",\"Positive\",\"Extremely Positive\",\"Neutral\",\"Negative\",\"Negative\",\"Negative\",\"Positive\",\"Extremely Negative\",\"Negative\",\"Positive\",\"Negative\",\"Extremely Positive\",\"Negative\",\"Neutral\",\"Extremely Positive\",\"Negative\",\"Neutral\",\"Positive\",\"Negative\",\"Extremely Negative\",\"Extremely Negative\",\"Negative\",\"Negative\",\"Extremely Negative\",\"Negative\",\"Negative\",\"Extremely Negative\",\"Neutral\",\"Positive\",\"Neutral\",\"Extremely Negative\",\"Extremely Negative\",\"Negative\",\"Positive\",\"Positive\",\"Positive\",\"Positive\",\"Extremely Negative\",\"Negative\",\"Positive\",\"Negative\",\"Neutral\",\"Extremely Positive\",\"Positive\",\"Extremely Negative\",\"Positive\",\"Positive\",\"Extremely Positive\",\"Positive\",\"Neutral\",\"Positive\",\"Neutral\",\"Neutral\",\"Extremely Negative\",\"Extremely Negative\",\"Extremely Positive\",\"Negative\",\"Positive\",\"Neutral\",\"Negative\",\"Extremely Negative\",\"Negative\",\"Positive\",\"Extremely Positive\",\"Negative\",\"Extremely Positive\",\"Neutral\",\"Negative\",\"Extremely Negative\",\"Neutral\",\"Neutral\",\"Positive\",\"Extremely Positive\",\"Extremely Positive\",\"Negative\",\"Negative\",\"Extremely Positive\",\"Extremely Positive\",\"Positive\",\"Negative\",\"Extremely Negative\",\"Positive\",\"Neutral\",\"Positive\",\"Extremely Positive\",\"Positive\",\"Neutral\",\"Negative\",\"Positive\",\"Neutral\",\"Negative\",\"Negative\",\"Extremely Positive\",\"Neutral\",\"Extremely Negative\",\"Negative\",\"Positive\",\"Neutral\",\"Extremely Negative\",\"Negative\",\"Negative\",\"Positive\",\"Neutral\",\"Positive\",\"Positive\",\"Neutral\",\"Negative\",\"Extremely Positive\",\"Neutral\",\"Extremely Positive\",\"Positive\",\"Neutral\",\"Positive\",\"Positive\",\"Negative\",\"Neutral\",\"Negative\",\"Neutral\",\"Negative\",\"Negative\",\"Negative\",\"Extremely Positive\",\"Extremely Positive\",\"Positive\",\"Positive\",\"Extremely Negative\",\"Positive\",\"Negative\",\"Extremely Negative\",\"Positive\",\"Positive\",\"Positive\",\"Extremely Negative\",\"Negative\",\"Positive\",\"Positive\",\"Extremely Negative\",\"Neutral\",\"Extremely Negative\",\"Negative\",\"Neutral\",\"Neutral\",\"Positive\",\"Extremely Negative\",\"Neutral\",\"Positive\",\"Neutral\",\"Extremely Negative\",\"Positive\",\"Positive\",\"Neutral\",\"Extremely Positive\",\"Extremely Positive\",\"Extremely Negative\",\"Positive\",\"Positive\",\"Positive\",\"Positive\",\"Negative\",\"Negative\",\"Extremely Positive\",\"Positive\",\"Neutral\",\"Negative\",\"Negative\",\"Positive\",\"Extremely Positive\",\"Extremely Positive\",\"Extremely Negative\",\"Extremely Positive\",\"Negative\",\"Positive\",\"Neutral\",\"Positive\",\"Neutral\",\"Extremely Positive\",\"Extremely Positive\",\"Negative\",\"Extremely Positive\",\"Positive\",\"Extremely Positive\",\"Negative\",\"Positive\",\"Positive\",\"Positive\",\"Negative\",\"Negative\",\"Extremely Positive\",\"Extremely Positive\",\"Negative\",\"Negative\",\"Positive\",\"Extremely Negative\",\"Negative\",\"Extremely Positive\",\"Negative\",\"Neutral\",\"Extremely Negative\",\"Extremely Positive\",\"Neutral\",\"Positive\",\"Positive\",\"Negative\",\"Positive\",\"Negative\",\"Positive\",\"Negative\",\"Positive\",\"Positive\",\"Neutral\",\"Negative\",\"Neutral\",\"Positive\",\"Negative\",\"Neutral\",\"Positive\",\"Positive\",\"Positive\",\"Positive\",\"Positive\",\"Negative\",\"Extremely Negative\",\"Neutral\",\"Neutral\",\"Negative\",\"Positive\",\"Extremely Positive\",\"Extremely Positive\",\"Neutral\",\"Extremely Positive\",\"Positive\",\"Negative\",\"Positive\",\"Extremely Positive\",\"Positive\",\"Positive\",\"Negative\",\"Negative\",\"Neutral\",\"Negative\",\"Positive\",\"Negative\",\"Positive\",\"Extremely Negative\",\"Positive\",\"Extremely Negative\",\"Negative\",\"Positive\",\"Neutral\",\"Neutral\",\"Neutral\",\"Negative\",\"Extremely Negative\",\"Extremely Negative\",\"Negative\",\"Extremely Positive\",\"Extremely Negative\",\"Positive\",\"Neutral\",\"Negative\",\"Extremely Negative\",\"Positive\",\"Extremely Positive\",\"Extremely Negative\",\"Positive\",\"Extremely Negative\",\"Positive\",\"Neutral\",\"Extremely Positive\",\"Negative\",\"Negative\",\"Negative\",\"Extremely Positive\",\"Negative\",\"Positive\",\"Extremely Negative\",\"Positive\",\"Negative\",\"Extremely Negative\",\"Neutral\",\"Extremely Positive\",\"Neutral\",\"Neutral\",\"Positive\",\"Extremely Negative\",\"Neutral\",\"Negative\",\"Extremely Negative\",\"Neutral\",\"Extremely Negative\",\"Negative\",\"Neutral\",\"Extremely Positive\",\"Extremely Negative\",\"Extremely Negative\",\"Extremely Negative\",\"Extremely Positive\",\"Negative\",\"Extremely Positive\",\"Neutral\",\"Extremely Negative\",\"Extremely Positive\",\"Neutral\",\"Neutral\",\"Extremely Negative\",\"Extremely Positive\",\"Extremely Negative\",\"Extremely Positive\",\"Positive\",\"Extremely Positive\",\"Extremely Negative\",\"Neutral\",\"Positive\",\"Extremely Negative\",\"Negative\",\"Neutral\",\"Positive\",\"Extremely Negative\",\"Extremely Negative\",\"Extremely Negative\",\"Extremely Negative\",\"Extremely Negative\",\"Neutral\",\"Negative\",\"Negative\",\"Neutral\",\"Extremely Negative\",\"Neutral\",\"Positive\",\"Extremely Positive\",\"Negative\",\"Extremely Positive\",\"Negative\",\"Extremely Positive\",\"Positive\",\"Positive\",\"Negative\",\"Extremely Negative\",\"Negative\",\"Negative\",\"Neutral\",\"Negative\",\"Positive\",\"Positive\",\"Extremely Positive\",\"Neutral\",\"Positive\",\"Extremely Positive\",\"Positive\",\"Extremely Positive\",\"Positive\",\"Positive\",\"Extremely Positive\",\"Extremely Positive\",\"Neutral\",\"Positive\",\"Negative\",\"Negative\",\"Negative\",\"Negative\",\"Extremely Negative\",\"Negative\",\"Positive\",\"Neutral\",\"Extremely Negative\",\"Negative\",\"Negative\",\"Extremely Positive\",\"Extremely Negative\",\"Extremely Positive\",\"Negative\",\"Positive\",\"Extremely Positive\",\"Neutral\",\"Extremely Positive\",\"Negative\",\"Neutral\",\"Extremely Positive\",\"Neutral\",\"Positive\",\"Neutral\",\"Negative\",\"Negative\",\"Positive\",\"Positive\",\"Extremely Positive\",\"Negative\",\"Neutral\",\"Neutral\",\"Neutral\",\"Negative\",\"Positive\",\"Positive\",\"Positive\",\"Negative\",\"Negative\",\"Negative\",\"Positive\",\"Extremely Negative\",\"Extremely Positive\",\"Extremely Negative\",\"Negative\",\"Negative\",\"Neutral\",\"Negative\",\"Extremely Positive\",\"Negative\",\"Extremely Positive\",\"Extremely Positive\",\"Extremely Positive\",\"Negative\",\"Extremely Negative\",\"Positive\",\"Positive\",\"Neutral\",\"Negative\",\"Extremely Negative\",\"Positive\",\"Extremely Positive\",\"Positive\",\"Extremely Negative\",\"Extremely Positive\",\"Neutral\",\"Extremely Negative\",\"Negative\",\"Extremely Negative\",\"Neutral\",\"Negative\",\"Negative\",\"Extremely Negative\",\"Neutral\",\"Negative\",\"Neutral\",\"Extremely Positive\",\"Negative\",\"Extremely Positive\",\"Extremely Positive\",\"Positive\",\"Extremely Negative\",\"Negative\",\"Neutral\",\"Negative\",\"Extremely Negative\",\"Positive\",\"Positive\",\"Extremely Positive\",\"Negative\",\"Positive\",\"Positive\",\"Negative\",\"Extremely Negative\",\"Negative\",\"Negative\",\"Neutral\",\"Extremely Negative\",\"Negative\",\"Neutral\",\"Extremely Positive\",\"Positive\",\"Negative\",\"Extremely Negative\",\"Extremely Positive\",\"Negative\",\"Negative\",\"Extremely Positive\",\"Positive\",\"Positive\",\"Neutral\",\"Negative\",\"Neutral\",\"Negative\",\"Extremely Negative\",\"Negative\",\"Positive\",\"Neutral\",\"Extremely Positive\",\"Neutral\",\"Negative\",\"Negative\",\"Negative\",\"Negative\",\"Positive\",\"Extremely Positive\",\"Neutral\",\"Extremely Positive\",\"Positive\",\"Negative\",\"Positive\",\"Negative\",\"Negative\",\"Negative\",\"Neutral\",\"Positive\",\"Negative\",\"Negative\",\"Extremely Negative\",\"Neutral\",\"Positive\",\"Neutral\",\"Extremely Negative\",\"Neutral\",\"Negative\",\"Neutral\",\"Extremely Positive\",\"Extremely Positive\",\"Extremely Positive\",\"Negative\",\"Positive\",\"Positive\",\"Negative\",\"Negative\",\"Positive\",\"Positive\",\"Negative\",\"Extremely Negative\",\"Negative\",\"Negative\",\"Positive\",\"Negative\",\"Negative\",\"Negative\",\"Neutral\",\"Negative\",\"Extremely Negative\",\"Neutral\",\"Positive\",\"Positive\",\"Positive\",\"Negative\",\"Neutral\",\"Negative\",\"Neutral\",\"Negative\",\"Negative\",\"Positive\",\"Extremely Positive\",\"Neutral\",\"Extremely Positive\",\"Extremely Positive\",\"Extremely Negative\",\"Positive\",\"Extremely Positive\",\"Positive\",\"Negative\",\"Extremely Positive\",\"Extremely Positive\",\"Positive\",\"Negative\",\"Extremely Negative\",\"Negative\",\"Positive\",\"Neutral\",\"Neutral\",\"Extremely Negative\",\"Negative\",\"Positive\",\"Extremely Positive\",\"Negative\",\"Extremely Negative\",\"Extremely Negative\",\"Positive\",\"Extremely Positive\",\"Positive\",\"Positive\",\"Negative\",\"Neutral\",\"Extremely Negative\",\"Extremely Positive\",\"Positive\",\"Negative\",\"Extremely Positive\",\"Positive\",\"Negative\",\"Positive\",\"Extremely Negative\",\"Positive\",\"Negative\",\"Negative\",\"Positive\",\"Negative\",\"Negative\",\"Extremely Positive\",\"Negative\",\"Extremely Negative\",\"Positive\",\"Positive\",\"Extremely Positive\",\"Neutral\",\"Negative\",\"Positive\",\"Negative\",\"Negative\",\"Negative\",\"Negative\",\"Neutral\",\"Neutral\",\"Neutral\",\"Extremely Negative\",\"Negative\",\"Negative\",\"Negative\",\"Negative\",\"Negative\",\"Negative\",\"Positive\",\"Negative\",\"Positive\",\"Extremely Positive\",\"Negative\",\"Neutral\",\"Positive\",\"Extremely Positive\",\"Positive\",\"Extremely Negative\",\"Negative\",\"Positive\",\"Extremely Negative\",\"Extremely Negative\",\"Extremely Positive\",\"Positive\",\"Negative\",\"Extremely Positive\",\"Positive\",\"Extremely Positive\",\"Positive\",\"Negative\",\"Extremely Negative\",\"Positive\",\"Extremely Negative\",\"Neutral\",\"Positive\",\"Negative\",\"Negative\",\"Positive\",\"Extremely Negative\",\"Neutral\",\"Negative\",\"Negative\",\"Positive\",\"Extremely Negative\",\"Negative\",\"Extremely Negative\",\"Positive\",\"Neutral\",\"Extremely Negative\",\"Extremely Negative\",\"Positive\",\"Neutral\",\"Neutral\",\"Neutral\",\"Negative\",\"Negative\",\"Extremely Positive\",\"Extremely Negative\",\"Positive\",\"Positive\",\"Negative\",\"Extremely Positive\",\"Neutral\",\"Negative\",\"Negative\",\"Positive\",\"Negative\",\"Extremely Positive\",\"Positive\",\"Neutral\",\"Negative\",\"Extremely Positive\",\"Negative\",\"Negative\",\"Extremely Positive\",\"Positive\",\"Positive\",\"Negative\",\"Negative\",\"Neutral\",\"Positive\",\"Extremely Positive\",\"Positive\",\"Neutral\",\"Positive\",\"Extremely Positive\",\"Positive\",\"Positive\",\"Positive\",\"Neutral\",\"Extremely Negative\",\"Negative\",\"Positive\",\"Extremely Negative\",\"Negative\",\"Extremely Negative\",\"Extremely Positive\",\"Neutral\",\"Neutral\",\"Negative\",\"Extremely Positive\",\"Extremely Positive\",\"Neutral\",\"Negative\",\"Extremely Negative\",\"Extremely Positive\",\"Extremely Negative\",\"Negative\",\"Extremely Negative\",\"Negative\",\"Positive\",\"Positive\",\"Negative\",\"Extremely Negative\",\"Positive\",\"Positive\",\"Extremely Positive\",\"Neutral\",\"Extremely Positive\",\"Negative\",\"Neutral\",\"Extremely Negative\",\"Extremely Positive\",\"Extremely Negative\",\"Positive\",\"Extremely Positive\",\"Extremely Positive\",\"Extremely Negative\",\"Extremely Positive\",\"Positive\",\"Positive\",\"Neutral\",\"Positive\",\"Negative\",\"Extremely Negative\",\"Positive\",\"Negative\",\"Negative\",\"Positive\",\"Negative\",\"Negative\",\"Extremely Negative\",\"Positive\",\"Positive\",\"Negative\",\"Extremely Negative\",\"Negative\",\"Extremely Negative\",\"Positive\",\"Neutral\",\"Positive\",\"Negative\",\"Negative\",\"Extremely Negative\",\"Positive\",\"Positive\",\"Positive\",\"Neutral\",\"Negative\",\"Negative\",\"Negative\",\"Neutral\",\"Negative\",\"Extremely Negative\",\"Negative\",\"Extremely Negative\",\"Extremely Negative\",\"Extremely Negative\",\"Negative\",\"Negative\",\"Extremely Positive\",\"Positive\",\"Positive\",\"Neutral\",\"Neutral\",\"Extremely Positive\",\"Positive\",\"Extremely Positive\",\"Extremely Negative\",\"Positive\",\"Negative\",\"Extremely Negative\",\"Extremely Negative\",\"Positive\",\"Negative\",\"Extremely Positive\",\"Negative\",\"Neutral\",\"Positive\",\"Extremely Negative\",\"Negative\",\"Extremely Positive\",\"Negative\",\"Positive\",\"Extremely Negative\",\"Negative\",\"Extremely Positive\",\"Neutral\",\"Extremely Negative\",\"Positive\",\"Extremely Positive\",\"Extremely Negative\",\"Extremely Negative\",\"Positive\",\"Positive\",\"Extremely Negative\",\"Negative\",\"Neutral\",\"Extremely Negative\",\"Positive\",\"Positive\",\"Extremely Negative\",\"Positive\",\"Negative\",\"Extremely Positive\",\"Positive\",\"Extremely Negative\",\"Neutral\",\"Neutral\",\"Positive\",\"Positive\",\"Extremely Negative\",\"Positive\",\"Positive\",\"Positive\",\"Extremely Positive\",\"Positive\",\"Positive\",\"Extremely Positive\",\"Positive\",\"Negative\",\"Extremely Positive\",\"Neutral\",\"Neutral\",\"Extremely Positive\",\"Extremely Negative\",\"Extremely Negative\",\"Extremely Negative\",\"Neutral\",\"Neutral\",\"Positive\",\"Positive\",\"Extremely Positive\",\"Negative\",\"Extremely Positive\",\"Extremely Negative\",\"Positive\",\"Negative\",\"Extremely Negative\",\"Extremely Negative\",\"Extremely Positive\",\"Extremely Positive\",\"Extremely Negative\",\"Neutral\",\"Neutral\",\"Positive\",\"Negative\",\"Positive\",\"Neutral\",\"Negative\",\"Negative\",\"Extremely Positive\",\"Positive\",\"Neutral\",\"Neutral\",\"Neutral\",\"Neutral\",\"Negative\",\"Negative\",\"Negative\",\"Neutral\",\"Negative\",\"Negative\",\"Extremely Negative\",\"Negative\",\"Extremely Negative\",\"Positive\",\"Positive\",\"Negative\",\"Extremely Positive\",\"Positive\",\"Extremely Positive\",\"Neutral\",\"Negative\",\"Extremely Negative\",\"Neutral\",\"Positive\",\"Neutral\",\"Negative\",\"Neutral\",\"Neutral\",\"Extremely Negative\",\"Extremely Negative\",\"Extremely Negative\",\"Extremely Negative\",\"Extremely Negative\",\"Extremely Positive\",\"Negative\",\"Positive\",\"Negative\",\"Positive\",\"Negative\",\"Negative\",\"Extremely Positive\",\"Extremely Negative\",\"Extremely Negative\",\"Negative\",\"Positive\",\"Negative\",\"Positive\",\"Negative\",\"Neutral\",\"Negative\",\"Negative\",\"Neutral\",\"Extremely Positive\",\"Positive\",\"Negative\",\"Negative\",\"Extremely Negative\",\"Neutral\",\"Neutral\",\"Extremely Negative\",\"Extremely Positive\",\"Positive\",\"Negative\",\"Negative\",\"Positive\",\"Positive\",\"Positive\",\"Negative\",\"Positive\",\"Extremely Positive\",\"Positive\",\"Extremely Negative\",\"Neutral\",\"Positive\",\"Negative\",\"Neutral\",\"Extremely Negative\",\"Extremely Positive\",\"Positive\",\"Extremely Negative\",\"Neutral\",\"Positive\",\"Negative\",\"Extremely Positive\",\"Positive\",\"Positive\",\"Positive\",\"Positive\",\"Negative\",\"Positive\",\"Extremely Positive\",\"Positive\",\"Neutral\",\"Negative\",\"Negative\",\"Negative\",\"Negative\",\"Extremely Positive\",\"Positive\",\"Extremely Negative\",\"Positive\",\"Negative\",\"Extremely Positive\",\"Extremely Negative\",\"Neutral\",\"Positive\",\"Positive\",\"Extremely Negative\",\"Positive\",\"Negative\",\"Neutral\",\"Neutral\",\"Negative\",\"Neutral\",\"Extremely Negative\",\"Negative\",\"Positive\",\"Positive\",\"Neutral\",\"Neutral\",\"Negative\",\"Positive\",\"Negative\",\"Neutral\",\"Extremely Positive\",\"Extremely Negative\",\"Neutral\",\"Positive\",\"Negative\",\"Extremely Negative\",\"Positive\",\"Positive\",\"Positive\",\"Positive\",\"Extremely Positive\",\"Negative\",\"Neutral\",\"Negative\",\"Extremely Positive\",\"Extremely Negative\",\"Neutral\",\"Negative\",\"Neutral\",\"Negative\",\"Negative\",\"Positive\",\"Negative\",\"Extremely Negative\",\"Extremely Negative\",\"Neutral\",\"Negative\",\"Neutral\",\"Positive\",\"Extremely Positive\",\"Positive\",\"Neutral\",\"Negative\",\"Extremely Positive\",\"Negative\",\"Negative\",\"Extremely Negative\",\"Extremely Negative\",\"Negative\",\"Negative\",\"Positive\",\"Extremely Negative\",\"Extremely Negative\",\"Positive\",\"Positive\",\"Positive\",\"Negative\",\"Extremely Negative\",\"Neutral\",\"Neutral\",\"Neutral\",\"Negative\",\"Negative\",\"Negative\",\"Negative\",\"Neutral\",\"Extremely Positive\",\"Extremely Negative\",\"Positive\",\"Positive\",\"Extremely Positive\",\"Positive\",\"Neutral\",\"Extremely Positive\",\"Positive\",\"Neutral\",\"Positive\",\"Negative\",\"Positive\",\"Negative\",\"Negative\",\"Positive\",\"Negative\",\"Extremely Negative\",\"Negative\",\"Negative\",\"Extremely Positive\",\"Negative\",\"Negative\",\"Extremely Positive\",\"Negative\",\"Negative\",\"Negative\",\"Neutral\",\"Negative\",\"Positive\",\"Extremely Positive\",\"Extremely Negative\",\"Negative\",\"Negative\",\"Neutral\",\"Extremely Negative\",\"Negative\",\"Positive\",\"Extremely Positive\",\"Extremely Positive\",\"Extremely Positive\",\"Extremely Negative\",\"Extremely Negative\",\"Negative\",\"Extremely Positive\",\"Negative\",\"Extremely Negative\",\"Extremely Positive\",\"Neutral\",\"Positive\",\"Negative\",\"Extremely Positive\",\"Extremely Positive\",\"Positive\",\"Extremely Positive\",\"Negative\",\"Extremely Negative\",\"Extremely Positive\",\"Positive\",\"Negative\",\"Negative\",\"Neutral\",\"Positive\",\"Extremely Positive\",\"Positive\",\"Neutral\",\"Positive\",\"Extremely Negative\",\"Extremely Negative\",\"Extremely Positive\",\"Extremely Positive\",\"Positive\",\"Extremely Negative\",\"Neutral\",\"Negative\",\"Extremely Negative\",\"Negative\",\"Extremely Positive\",\"Positive\",\"Extremely Negative\",\"Extremely Negative\",\"Positive\",\"Extremely Positive\",\"Negative\",\"Neutral\",\"Positive\",\"Neutral\",\"Positive\",\"Extremely Positive\",\"Positive\",\"Positive\",\"Negative\",\"Extremely Negative\",\"Positive\",\"Neutral\",\"Extremely Negative\",\"Extremely Positive\",\"Neutral\",\"Positive\",\"Neutral\",\"Positive\",\"Extremely Positive\",\"Negative\",\"Extremely Positive\",\"Extremely Negative\",\"Neutral\",\"Negative\",\"Negative\",\"Negative\",\"Negative\",\"Negative\",\"Negative\",\"Negative\",\"Negative\",\"Positive\",\"Extremely Negative\",\"Extremely Negative\",\"Negative\",\"Negative\",\"Positive\",\"Positive\",\"Negative\",\"Negative\",\"Negative\",\"Neutral\",\"Positive\",\"Negative\",\"Positive\",\"Neutral\",\"Positive\",\"Positive\",\"Positive\",\"Positive\",\"Extremely Positive\",\"Negative\",\"Positive\",\"Neutral\",\"Negative\",\"Extremely Negative\",\"Positive\",\"Negative\",\"Extremely Positive\",\"Extremely Negative\",\"Neutral\",\"Positive\",\"Neutral\",\"Negative\",\"Positive\",\"Positive\",\"Positive\",\"Neutral\",\"Negative\",\"Negative\",\"Extremely Negative\",\"Neutral\",\"Extremely Positive\",\"Positive\",\"Neutral\",\"Neutral\",\"Extremely Positive\",\"Extremely Negative\",\"Extremely Positive\",\"Neutral\",\"Positive\",\"Negative\",\"Positive\",\"Negative\",\"Neutral\",\"Neutral\",\"Negative\",\"Neutral\",\"Neutral\",\"Extremely Negative\",\"Negative\",\"Positive\",\"Positive\",\"Extremely Negative\",\"Extremely Positive\",\"Extremely Positive\",\"Negative\",\"Positive\",\"Neutral\",\"Neutral\",\"Positive\",\"Extremely Negative\",\"Neutral\",\"Negative\",\"Extremely Negative\",\"Positive\",\"Negative\",\"Negative\",\"Positive\",\"Neutral\",\"Neutral\",\"Extremely Positive\",\"Positive\",\"Extremely Positive\",\"Extremely Positive\",\"Positive\",\"Positive\",\"Positive\",\"Negative\",\"Extremely Negative\",\"Negative\",\"Neutral\",\"Neutral\",\"Positive\",\"Positive\",\"Positive\",\"Negative\",\"Extremely Positive\",\"Negative\",\"Positive\",\"Extremely Negative\",\"Negative\",\"Neutral\",\"Negative\",\"Negative\",\"Extremely Negative\",\"Positive\",\"Extremely Positive\",\"Neutral\",\"Negative\",\"Negative\",\"Extremely Negative\",\"Negative\",\"Neutral\",\"Neutral\",\"Positive\",\"Extremely Negative\",\"Extremely Negative\",\"Neutral\",\"Extremely Negative\",\"Neutral\",\"Negative\",\"Negative\",\"Positive\",\"Negative\",\"Negative\",\"Extremely Positive\",\"Negative\",\"Neutral\",\"Extremely Negative\",\"Positive\",\"Extremely Negative\",\"Neutral\",\"Extremely Positive\",\"Negative\",\"Positive\",\"Negative\",\"Extremely Negative\",\"Extremely Negative\",\"Neutral\",\"Neutral\",\"Negative\",\"Negative\",\"Positive\",\"Extremely Positive\",\"Negative\",\"Negative\",\"Positive\",\"Positive\",\"Negative\",\"Negative\",\"Negative\",\"Extremely Negative\",\"Positive\",\"Extremely Negative\",\"Extremely Negative\",\"Neutral\",\"Extremely Negative\",\"Negative\",\"Extremely Positive\",\"Neutral\",\"Positive\",\"Neutral\",\"Extremely Positive\",\"Positive\",\"Positive\",\"Positive\",\"Extremely Negative\",\"Positive\",\"Extremely Negative\",\"Extremely Positive\",\"Positive\",\"Negative\",\"Negative\",\"Extremely Positive\",\"Extremely Negative\",\"Negative\",\"Positive\",\"Neutral\",\"Extremely Negative\",\"Negative\",\"Extremely Negative\",\"Positive\",\"Extremely Negative\",\"Neutral\",\"Negative\",\"Extremely Positive\",\"Extremely Positive\",\"Negative\",\"Positive\",\"Negative\",\"Extremely Positive\",\"Extremely Negative\",\"Negative\",\"Neutral\",\"Negative\",\"Positive\",\"Neutral\",\"Extremely Positive\",\"Neutral\",\"Positive\",\"Extremely Positive\",\"Extremely Positive\",\"Neutral\",\"Neutral\",\"Negative\",\"Extremely Positive\",\"Negative\",\"Neutral\",\"Extremely Negative\",\"Negative\",\"Positive\",\"Neutral\",\"Extremely Negative\",\"Negative\",\"Negative\",\"Extremely Positive\",\"Positive\",\"Extremely Negative\",\"Negative\",\"Positive\",\"Positive\",\"Negative\",\"Positive\",\"Negative\",\"Extremely Positive\",\"Negative\",\"Neutral\",\"Positive\",\"Positive\",\"Negative\",\"Extremely Positive\",\"Extremely Positive\",\"Positive\",\"Neutral\",\"Extremely Negative\",\"Negative\",\"Extremely Negative\",\"Positive\",\"Extremely Positive\",\"Positive\",\"Positive\",\"Positive\",\"Neutral\",\"Negative\",\"Neutral\",\"Negative\",\"Negative\",\"Positive\",\"Negative\",\"Positive\",\"Extremely Negative\",\"Extremely Negative\",\"Neutral\",\"Negative\",\"Positive\",\"Neutral\",\"Extremely Positive\",\"Extremely Negative\",\"Extremely Negative\",\"Positive\",\"Neutral\",\"Positive\",\"Positive\",\"Negative\",\"Neutral\",\"Neutral\",\"Negative\",\"Extremely Negative\",\"Negative\",\"Neutral\",\"Positive\",\"Positive\",\"Extremely Positive\",\"Positive\",\"Positive\",\"Negative\",\"Positive\",\"Positive\",\"Positive\",\"Positive\",\"Positive\",\"Neutral\",\"Negative\",\"Positive\",\"Negative\",\"Extremely Positive\",\"Positive\",\"Negative\",\"Negative\",\"Negative\",\"Negative\",\"Extremely Positive\",\"Positive\",\"Positive\",\"Positive\",\"Negative\",\"Extremely Positive\",\"Extremely Negative\",\"Neutral\",\"Negative\",\"Positive\",\"Neutral\",\"Negative\",\"Positive\",\"Negative\",\"Extremely Negative\",\"Negative\",\"Positive\",\"Extremely Positive\",\"Extremely Positive\",\"Positive\",\"Extremely Negative\",\"Negative\",\"Positive\",\"Positive\",\"Positive\",\"Neutral\",\"Negative\",\"Neutral\",\"Negative\",\"Positive\",\"Negative\",\"Extremely Positive\",\"Positive\",\"Extremely Negative\",\"Extremely Positive\",\"Neutral\",\"Negative\",\"Positive\",\"Extremely Positive\",\"Negative\",\"Negative\",\"Negative\",\"Extremely Positive\",\"Negative\",\"Neutral\",\"Positive\",\"Extremely Positive\",\"Positive\",\"Extremely Negative\",\"Extremely Negative\",\"Positive\",\"Positive\",\"Extremely Positive\",\"Negative\",\"Negative\",\"Extremely Negative\",\"Extremely Positive\",\"Extremely Positive\",\"Extremely Negative\",\"Positive\",\"Neutral\",\"Positive\",\"Negative\",\"Negative\",\"Extremely Negative\",\"Positive\",\"Negative\",\"Neutral\",\"Negative\",\"Positive\",\"Negative\",\"Negative\",\"Negative\",\"Positive\",\"Neutral\",\"Extremely Positive\",\"Positive\",\"Neutral\",\"Negative\",\"Negative\",\"Extremely Negative\",\"Positive\",\"Positive\",\"Neutral\",\"Neutral\",\"Extremely Positive\",\"Neutral\",\"Extremely Negative\",\"Extremely Negative\",\"Neutral\",\"Positive\",\"Positive\",\"Negative\",\"Negative\",\"Negative\",\"Positive\",\"Extremely Positive\",\"Extremely Negative\",\"Extremely Negative\",\"Negative\",\"Positive\",\"Negative\",\"Negative\",\"Positive\",\"Negative\",\"Negative\",\"Positive\",\"Positive\",\"Extremely Negative\",\"Positive\",\"Positive\",\"Extremely Negative\",\"Positive\",\"Extremely Positive\",\"Extremely Negative\",\"Extremely Negative\",\"Positive\",\"Negative\",\"Extremely Positive\",\"Neutral\",\"Extremely Negative\",\"Extremely Negative\",\"Positive\",\"Negative\",\"Negative\",\"Extremely Positive\",\"Negative\",\"Extremely Positive\",\"Extremely Negative\",\"Neutral\",\"Neutral\",\"Positive\",\"Positive\",\"Neutral\",\"Neutral\",\"Negative\",\"Extremely Positive\",\"Positive\",\"Negative\",\"Positive\",\"Negative\",\"Extremely Negative\",\"Positive\",\"Positive\",\"Negative\",\"Positive\",\"Extremely Negative\",\"Positive\",\"Positive\",\"Negative\",\"Extremely Negative\",\"Extremely Positive\",\"Neutral\",\"Negative\",\"Neutral\",\"Extremely Positive\",\"Extremely Negative\",\"Negative\",\"Negative\",\"Negative\",\"Extremely Negative\",\"Positive\",\"Extremely Negative\",\"Extremely Positive\",\"Positive\",\"Positive\",\"Positive\",\"Positive\",\"Extremely Positive\",\"Extremely Negative\",\"Extremely Positive\",\"Negative\",\"Negative\",\"Extremely Positive\",\"Extremely Positive\",\"Extremely Negative\",\"Extremely Negative\",\"Extremely Positive\",\"Negative\",\"Negative\",\"Extremely Negative\",\"Extremely Positive\",\"Negative\",\"Extremely Negative\",\"Positive\",\"Negative\",\"Extremely Negative\",\"Negative\",\"Negative\",\"Neutral\",\"Positive\",\"Extremely Negative\",\"Extremely Negative\",\"Negative\",\"Neutral\",\"Neutral\",\"Extremely Positive\",\"Positive\",\"Negative\",\"Negative\",\"Negative\",\"Extremely Positive\",\"Positive\",\"Extremely Positive\",\"Extremely Positive\",\"Extremely Negative\",\"Extremely Positive\",\"Neutral\",\"Positive\",\"Positive\",\"Neutral\",\"Extremely Negative\",\"Positive\",\"Extremely Negative\",\"Negative\",\"Positive\",\"Positive\",\"Negative\",\"Extremely Negative\",\"Negative\",\"Negative\",\"Neutral\",\"Neutral\",\"Positive\",\"Negative\",\"Negative\",\"Positive\",\"Positive\",\"Negative\",\"Neutral\",\"Extremely Negative\",\"Positive\",\"Positive\",\"Positive\",\"Positive\",\"Extremely Positive\",\"Extremely Negative\",\"Negative\",\"Extremely Negative\",\"Extremely Negative\",\"Extremely Negative\",\"Neutral\",\"Neutral\",\"Positive\",\"Extremely Positive\",\"Extremely Negative\",\"Positive\",\"Positive\",\"Negative\",\"Negative\",\"Extremely Positive\",\"Neutral\",\"Negative\",\"Negative\",\"Negative\",\"Negative\",\"Positive\",\"Neutral\",\"Negative\",\"Positive\",\"Negative\",\"Extremely Negative\",\"Extremely Negative\",\"Positive\",\"Neutral\",\"Extremely Positive\",\"Extremely Positive\",\"Extremely Positive\",\"Positive\",\"Negative\",\"Neutral\",\"Extremely Positive\",\"Negative\",\"Extremely Negative\",\"Neutral\",\"Neutral\",\"Positive\",\"Negative\",\"Extremely Positive\",\"Positive\",\"Negative\",\"Negative\",\"Extremely Negative\",\"Positive\",\"Extremely Negative\",\"Negative\",\"Negative\",\"Negative\",\"Positive\",\"Negative\",\"Extremely Positive\",\"Negative\",\"Neutral\",\"Negative\",\"Extremely Negative\",\"Positive\",\"Neutral\",\"Extremely Negative\",\"Extremely Positive\",\"Extremely Negative\",\"Neutral\",\"Extremely Negative\",\"Neutral\",\"Extremely Positive\",\"Negative\",\"Negative\",\"Negative\",\"Positive\",\"Positive\",\"Negative\",\"Extremely Positive\",\"Positive\",\"Negative\",\"Extremely Positive\",\"Positive\",\"Extremely Negative\",\"Negative\",\"Negative\",\"Positive\",\"Neutral\",\"Extremely Negative\",\"Positive\",\"Extremely Positive\",\"Negative\",\"Neutral\",\"Neutral\",\"Neutral\",\"Extremely Negative\",\"Negative\",\"Extremely Positive\",\"Extremely Positive\",\"Extremely Negative\",\"Positive\",\"Negative\",\"Positive\",\"Neutral\",\"Positive\",\"Positive\",\"Negative\",\"Negative\",\"Positive\",\"Negative\",\"Neutral\",\"Extremely Positive\",\"Extremely Positive\",\"Neutral\",\"Neutral\",\"Positive\",\"Positive\",\"Negative\",\"Negative\",\"Negative\",\"Extremely Negative\",\"Positive\",\"Positive\",\"Negative\",\"Extremely Negative\",\"Extremely Negative\",\"Neutral\",\"Extremely Negative\",\"Negative\",\"Negative\",\"Extremely Negative\",\"Negative\",\"Neutral\",\"Positive\",\"Extremely Negative\",\"Positive\",\"Neutral\",\"Positive\",\"Positive\",\"Extremely Positive\",\"Extremely Positive\",\"Positive\",\"Extremely Negative\",\"Positive\",\"Positive\",\"Negative\",\"Negative\",\"Extremely Positive\",\"Neutral\",\"Positive\",\"Extremely Negative\",\"Extremely Negative\",\"Negative\",\"Negative\",\"Negative\",\"Extremely Negative\",\"Positive\",\"Extremely Negative\",\"Positive\",\"Positive\",\"Extremely Positive\",\"Neutral\",\"Extremely Negative\",\"Neutral\",\"Negative\",\"Negative\",\"Negative\",\"Extremely Negative\",\"Negative\",\"Extremely Negative\",\"Positive\",\"Neutral\",\"Positive\",\"Negative\",\"Negative\",\"Extremely Positive\",\"Neutral\",\"Extremely Positive\",\"Positive\",\"Extremely Positive\",\"Extremely Positive\",\"Positive\",\"Extremely Negative\",\"Positive\",\"Neutral\",\"Extremely Positive\",\"Neutral\",\"Negative\",\"Extremely Positive\",\"Extremely Positive\",\"Positive\",\"Positive\",\"Negative\",\"Positive\",\"Positive\",\"Positive\",\"Extremely Positive\",\"Negative\",\"Negative\",\"Positive\",\"Extremely Positive\",\"Negative\",\"Negative\",\"Neutral\",\"Extremely Positive\",\"Negative\",\"Positive\",\"Neutral\",\"Extremely Negative\",\"Extremely Positive\",\"Neutral\",\"Neutral\",\"Neutral\",\"Positive\",\"Negative\",\"Extremely Negative\",\"Positive\",\"Positive\",\"Extremely Negative\",\"Extremely Negative\",\"Extremely Positive\",\"Positive\",\"Neutral\",\"Negative\",\"Neutral\",\"Extremely Negative\",\"Negative\",\"Extremely Negative\",\"Extremely Positive\",\"Negative\",\"Neutral\",\"Positive\",\"Extremely Negative\",\"Neutral\",\"Extremely Negative\",\"Positive\",\"Positive\",\"Positive\",\"Negative\",\"Positive\",\"Positive\",\"Negative\",\"Extremely Positive\",\"Negative\",\"Neutral\",\"Positive\",\"Positive\",\"Neutral\",\"Positive\",\"Positive\",\"Extremely Negative\",\"Positive\",\"Neutral\",\"Extremely Positive\",\"Negative\",\"Positive\",\"Positive\",\"Extremely Negative\",\"Negative\",\"Positive\",\"Negative\",\"Negative\",\"Positive\",\"Negative\",\"Extremely Positive\",\"Negative\",\"Positive\",\"Negative\",\"Extremely Positive\",\"Positive\",\"Positive\",\"Neutral\",\"Negative\",\"Neutral\",\"Negative\",\"Negative\",\"Positive\",\"Extremely Positive\",\"Negative\",\"Neutral\",\"Extremely Negative\",\"Positive\",\"Positive\",\"Extremely Negative\",\"Extremely Positive\",\"Extremely Negative\",\"Neutral\",\"Negative\",\"Extremely Positive\",\"Negative\",\"Extremely Positive\",\"Neutral\",\"Extremely Negative\",\"Negative\",\"Neutral\",\"Negative\",\"Extremely Positive\",\"Neutral\",\"Negative\",\"Positive\",\"Neutral\",\"Extremely Negative\",\"Negative\",\"Positive\",\"Negative\",\"Positive\",\"Negative\",\"Neutral\",\"Extremely Positive\",\"Extremely Negative\",\"Negative\",\"Negative\",\"Neutral\",\"Neutral\",\"Negative\",\"Negative\",\"Neutral\",\"Positive\",\"Neutral\",\"Negative\",\"Negative\",\"Negative\",\"Positive\",\"Negative\",\"Positive\",\"Extremely Positive\",\"Negative\",\"Extremely Positive\",\"Positive\",\"Positive\",\"Negative\",\"Extremely Negative\",\"Extremely Negative\",\"Negative\",\"Positive\",\"Extremely Negative\",\"Extremely Positive\",\"Neutral\",\"Extremely Negative\",\"Positive\",\"Neutral\",\"Negative\",\"Positive\",\"Extremely Positive\",\"Extremely Negative\",\"Neutral\",\"Positive\",\"Extremely Negative\",\"Extremely Negative\",\"Extremely Negative\",\"Positive\",\"Extremely Negative\",\"Extremely Positive\",\"Positive\",\"Extremely Negative\",\"Negative\",\"Positive\",\"Negative\",\"Positive\",\"Extremely Negative\",\"Extremely Negative\",\"Negative\",\"Extremely Negative\",\"Extremely Positive\",\"Extremely Negative\",\"Positive\",\"Negative\",\"Positive\",\"Extremely Negative\",\"Negative\",\"Positive\",\"Extremely Negative\",\"Positive\",\"Extremely Positive\",\"Extremely Positive\",\"Extremely Negative\",\"Positive\",\"Positive\",\"Positive\",\"Positive\",\"Extremely Negative\",\"Neutral\",\"Positive\",\"Extremely Negative\",\"Extremely Positive\",\"Negative\",\"Negative\",\"Negative\",\"Extremely Positive\",\"Neutral\",\"Neutral\",\"Negative\",\"Neutral\",\"Negative\",\"Extremely Positive\",\"Neutral\",\"Neutral\",\"Negative\",\"Negative\",\"Negative\",\"Extremely Positive\",\"Negative\",\"Neutral\",\"Negative\",\"Neutral\",\"Extremely Positive\",\"Negative\",\"Positive\",\"Neutral\",\"Negative\",\"Extremely Negative\",\"Extremely Positive\",\"Extremely Positive\",\"Extremely Negative\",\"Extremely Positive\",\"Negative\",\"Extremely Negative\",\"Positive\",\"Neutral\",\"Negative\",\"Positive\",\"Extremely Positive\",\"Negative\",\"Positive\",\"Negative\",\"Negative\",\"Extremely Negative\",\"Extremely Negative\",\"Neutral\",\"Negative\",\"Extremely Negative\",\"Positive\",\"Extremely Positive\",\"Neutral\",\"Extremely Positive\",\"Negative\",\"Extremely Positive\",\"Positive\",\"Positive\",\"Negative\",\"Negative\",\"Extremely Negative\",\"Neutral\",\"Negative\",\"Negative\",\"Positive\",\"Extremely Negative\",\"Extremely Positive\",\"Negative\",\"Positive\",\"Positive\",\"Positive\",\"Extremely Negative\",\"Negative\",\"Extremely Positive\",\"Extremely Negative\",\"Neutral\",\"Extremely Negative\",\"Neutral\",\"Neutral\",\"Positive\",\"Negative\",\"Extremely Positive\",\"Extremely Negative\",\"Extremely Positive\",\"Extremely Negative\",\"Extremely Positive\",\"Positive\",\"Extremely Negative\",\"Positive\",\"Negative\",\"Extremely Negative\",\"Neutral\",\"Neutral\",\"Neutral\",\"Negative\",\"Positive\",\"Neutral\",\"Extremely Positive\",\"Extremely Positive\",\"Negative\",\"Extremely Positive\",\"Negative\",\"Neutral\",\"Extremely Negative\",\"Neutral\",\"Extremely Positive\",\"Extremely Negative\",\"Extremely Negative\",\"Extremely Negative\",\"Positive\",\"Positive\",\"Neutral\",\"Extremely Positive\",\"Negative\",\"Positive\",\"Negative\",\"Extremely Positive\",\"Neutral\",\"Positive\",\"Positive\",\"Positive\",\"Negative\",\"Extremely Positive\",\"Negative\",\"Positive\",\"Extremely Negative\",\"Extremely Negative\",\"Positive\",\"Negative\",\"Extremely Positive\",\"Positive\",\"Extremely Positive\",\"Extremely Negative\",\"Negative\",\"Negative\",\"Positive\",\"Negative\",\"Extremely Negative\",\"Positive\",\"Positive\",\"Neutral\",\"Positive\",\"Extremely Negative\",\"Positive\",\"Positive\",\"Negative\",\"Negative\",\"Extremely Positive\",\"Negative\",\"Negative\",\"Neutral\",\"Positive\",\"Positive\",\"Neutral\",\"Extremely Negative\",\"Negative\",\"Neutral\",\"Negative\",\"Extremely Positive\",\"Extremely Positive\",\"Neutral\",\"Extremely Positive\",\"Negative\",\"Negative\",\"Positive\",\"Positive\",\"Neutral\",\"Extremely Positive\",\"Negative\",\"Neutral\",\"Positive\",\"Positive\",\"Extremely Positive\",\"Positive\",\"Neutral\",\"Extremely Positive\",\"Neutral\",\"Extremely Negative\",\"Extremely Negative\",\"Negative\",\"Negative\",\"Negative\",\"Neutral\",\"Extremely Negative\",\"Positive\",\"Neutral\",\"Neutral\",\"Positive\",\"Positive\",\"Extremely Negative\",\"Extremely Positive\",\"Positive\",\"Neutral\",\"Negative\",\"Extremely Positive\",\"Positive\",\"Extremely Positive\",\"Negative\",\"Extremely Negative\",\"Extremely Positive\",\"Extremely Negative\",\"Positive\",\"Negative\",\"Extremely Positive\",\"Extremely Positive\",\"Neutral\",\"Extremely Negative\",\"Neutral\",\"Positive\",\"Extremely Positive\",\"Extremely Positive\",\"Neutral\",\"Neutral\",\"Extremely Positive\",\"Positive\",\"Neutral\",\"Extremely Negative\",\"Positive\",\"Extremely Positive\",\"Negative\",\"Extremely Negative\",\"Neutral\",\"Neutral\",\"Neutral\",\"Positive\",\"Neutral\",\"Positive\",\"Negative\",\"Neutral\",\"Neutral\",\"Negative\",\"Extremely Negative\",\"Extremely Positive\",\"Neutral\",\"Negative\",\"Positive\",\"Negative\",\"Neutral\",\"Extremely Positive\",\"Positive\",\"Neutral\",\"Extremely Positive\",\"Positive\",\"Positive\",\"Extremely Positive\",\"Neutral\",\"Positive\",\"Positive\",\"Extremely Negative\",\"Negative\",\"Neutral\",\"Extremely Negative\",\"Positive\",\"Neutral\",\"Positive\",\"Neutral\",\"Positive\",\"Positive\",\"Negative\",\"Negative\",\"Extremely Negative\",\"Extremely Positive\",\"Neutral\",\"Negative\",\"Extremely Positive\",\"Neutral\",\"Extremely Negative\",\"Neutral\",\"Negative\",\"Negative\",\"Extremely Positive\",\"Positive\",\"Extremely Positive\",\"Extremely Negative\",\"Negative\",\"Extremely Positive\",\"Neutral\",\"Extremely Negative\",\"Extremely Negative\",\"Negative\",\"Negative\",\"Extremely Negative\",\"Positive\",\"Neutral\",\"Extremely Negative\",\"Extremely Positive\",\"Extremely Negative\",\"Extremely Positive\",\"Negative\",\"Negative\",\"Neutral\",\"Extremely Positive\",\"Extremely Positive\",\"Positive\",\"Negative\",\"Extremely Positive\",\"Negative\",\"Extremely Negative\",\"Extremely Negative\",\"Neutral\",\"Negative\",\"Positive\",\"Positive\",\"Extremely Negative\",\"Extremely Negative\",\"Extremely Negative\",\"Neutral\",\"Negative\",\"Extremely Negative\",\"Extremely Negative\",\"Negative\",\"Neutral\",\"Negative\",\"Positive\",\"Negative\",\"Extremely Positive\",\"Positive\",\"Negative\",\"Negative\",\"Extremely Negative\",\"Positive\",\"Extremely Positive\",\"Positive\",\"Positive\",\"Negative\",\"Positive\",\"Negative\",\"Positive\",\"Neutral\",\"Positive\",\"Neutral\",\"Positive\",\"Positive\",\"Extremely Positive\",\"Neutral\",\"Negative\",\"Extremely Negative\",\"Extremely Negative\",\"Extremely Negative\",\"Negative\",\"Extremely Negative\",\"Neutral\",\"Extremely Negative\",\"Neutral\",\"Positive\",\"Neutral\",\"Positive\",\"Extremely Positive\",\"Positive\",\"Negative\",\"Positive\",\"Extremely Positive\",\"Extremely Negative\",\"Positive\",\"Negative\",\"Extremely Negative\",\"Neutral\",\"Positive\",\"Extremely Positive\",\"Negative\",\"Negative\",\"Negative\",\"Negative\",\"Extremely Positive\",\"Positive\",\"Positive\",\"Extremely Positive\",\"Neutral\",\"Extremely Negative\",\"Extremely Negative\",\"Positive\",\"Extremely Positive\",\"Positive\",\"Extremely Positive\",\"Positive\",\"Extremely Positive\",\"Extremely Negative\",\"Extremely Negative\",\"Extremely Negative\",\"Extremely Positive\",\"Extremely Negative\",\"Neutral\",\"Positive\",\"Negative\",\"Positive\",\"Extremely Negative\",\"Positive\",\"Negative\",\"Extremely Negative\",\"Extremely Negative\",\"Positive\",\"Neutral\",\"Positive\",\"Negative\",\"Extremely Positive\",\"Extremely Positive\",\"Neutral\",\"Extremely Negative\",\"Positive\",\"Positive\",\"Negative\",\"Negative\",\"Positive\",\"Positive\",\"Positive\",\"Extremely Negative\",\"Extremely Positive\",\"Extremely Positive\",\"Neutral\",\"Extremely Negative\",\"Positive\",\"Extremely Negative\",\"Extremely Positive\",\"Extremely Positive\",\"Positive\",\"Neutral\",\"Positive\",\"Extremely Positive\",\"Neutral\",\"Neutral\",\"Negative\",\"Negative\",\"Extremely Positive\",\"Extremely Positive\",\"Extremely Negative\",\"Extremely Negative\",\"Positive\",\"Negative\",\"Negative\",\"Negative\",\"Positive\",\"Positive\",\"Negative\",\"Extremely Negative\",\"Extremely Positive\",\"Neutral\",\"Neutral\",\"Negative\",\"Negative\",\"Negative\",\"Positive\",\"Extremely Positive\",\"Extremely Positive\",\"Extremely Positive\",\"Negative\",\"Neutral\",\"Positive\",\"Neutral\",\"Positive\",\"Positive\",\"Positive\",\"Positive\",\"Neutral\",\"Negative\",\"Negative\",\"Negative\",\"Extremely Positive\",\"Negative\",\"Extremely Negative\",\"Neutral\",\"Neutral\",\"Positive\",\"Positive\",\"Extremely Positive\",\"Neutral\",\"Positive\",\"Extremely Positive\",\"Positive\",\"Negative\",\"Negative\",\"Neutral\",\"Negative\",\"Extremely Positive\",\"Positive\",\"Extremely Positive\",\"Extremely Positive\",\"Negative\",\"Neutral\",\"Neutral\",\"Extremely Negative\",\"Negative\",\"Negative\",\"Extremely Negative\",\"Extremely Negative\",\"Extremely Negative\",\"Positive\",\"Positive\",\"Extremely Positive\",\"Extremely Positive\",\"Extremely Positive\",\"Extremely Positive\",\"Extremely Positive\",\"Extremely Positive\",\"Extremely Positive\",\"Extremely Positive\",\"Negative\",\"Extremely Positive\",\"Positive\",\"Positive\",\"Negative\",\"Negative\",\"Positive\",\"Extremely Positive\",\"Negative\",\"Extremely Positive\",\"Extremely Positive\",\"Extremely Positive\",\"Positive\",\"Extremely Positive\",\"Positive\",\"Positive\",\"Extremely Negative\",\"Negative\",\"Positive\",\"Negative\",\"Extremely Positive\",\"Extremely Negative\",\"Extremely Negative\",\"Negative\",\"Negative\",\"Extremely Positive\",\"Neutral\",\"Positive\",\"Neutral\",\"Negative\",\"Extremely Positive\",\"Negative\",\"Negative\",\"Positive\",\"Neutral\",\"Positive\",\"Extremely Negative\",\"Extremely Negative\",\"Negative\",\"Negative\",\"Extremely Positive\",\"Extremely Positive\",\"Extremely Negative\",\"Negative\",\"Negative\",\"Negative\",\"Negative\",\"Neutral\",\"Positive\",\"Negative\",\"Extremely Negative\",\"Neutral\",\"Negative\",\"Extremely Positive\",\"Extremely Positive\",\"Negative\",\"Positive\",\"Extremely Positive\",\"Neutral\",\"Positive\",\"Negative\",\"Positive\",\"Extremely Negative\",\"Neutral\",\"Extremely Positive\",\"Negative\",\"Negative\",\"Positive\",\"Positive\",\"Extremely Positive\",\"Neutral\",\"Negative\",\"Neutral\",\"Positive\",\"Extremely Negative\",\"Negative\",\"Extremely Negative\",\"Positive\",\"Positive\",\"Extremely Positive\",\"Negative\",\"Positive\",\"Positive\",\"Extremely Negative\",\"Negative\",\"Extremely Negative\",\"Extremely Negative\",\"Negative\",\"Neutral\",\"Positive\",\"Neutral\",\"Neutral\",\"Neutral\",\"Positive\",\"Positive\",\"Negative\",\"Neutral\",\"Neutral\",\"Positive\",\"Extremely Negative\",\"Negative\",\"Negative\",\"Neutral\",\"Neutral\",\"Extremely Negative\",\"Extremely Positive\",\"Negative\",\"Positive\",\"Positive\",\"Extremely Positive\",\"Extremely Negative\",\"Negative\",\"Negative\",\"Positive\",\"Extremely Negative\",\"Negative\",\"Neutral\",\"Positive\",\"Extremely Negative\",\"Neutral\",\"Neutral\",\"Neutral\",\"Positive\",\"Positive\",\"Neutral\",\"Negative\",\"Neutral\",\"Neutral\",\"Positive\",\"Positive\",\"Negative\",\"Extremely Negative\",\"Neutral\",\"Extremely Negative\",\"Positive\",\"Negative\",\"Extremely Positive\",\"Neutral\",\"Extremely Positive\",\"Positive\",\"Neutral\",\"Positive\",\"Positive\",\"Neutral\",\"Negative\",\"Neutral\",\"Extremely Negative\",\"Extremely Positive\",\"Positive\",\"Extremely Positive\",\"Positive\",\"Neutral\",\"Positive\",\"Neutral\",\"Positive\",\"Neutral\",\"Extremely Positive\",\"Extremely Positive\",\"Extremely Negative\",\"Extremely Positive\",\"Extremely Negative\",\"Extremely Positive\",\"Positive\",\"Extremely Negative\",\"Negative\",\"Extremely Positive\",\"Neutral\",\"Extremely Positive\",\"Extremely Negative\",\"Negative\",\"Extremely Negative\",\"Neutral\",\"Negative\",\"Negative\",\"Positive\",\"Positive\",\"Extremely Positive\",\"Negative\",\"Neutral\",\"Extremely Negative\",\"Neutral\",\"Extremely Positive\",\"Neutral\",\"Positive\",\"Extremely Negative\",\"Extremely Negative\",\"Negative\",\"Extremely Negative\",\"Extremely Positive\",\"Negative\",\"Negative\",\"Positive\",\"Positive\",\"Neutral\",\"Extremely Negative\",\"Neutral\",\"Negative\",\"Neutral\",\"Negative\",\"Positive\",\"Extremely Positive\",\"Positive\",\"Positive\",\"Positive\",\"Extremely Positive\",\"Positive\",\"Extremely Negative\",\"Negative\",\"Positive\",\"Negative\",\"Extremely Positive\",\"Negative\",\"Neutral\",\"Negative\",\"Extremely Positive\",\"Positive\",\"Negative\",\"Extremely Negative\",\"Neutral\",\"Extremely Positive\",\"Negative\",\"Negative\",\"Positive\",\"Extremely Negative\",\"Neutral\",\"Extremely Positive\",\"Neutral\",\"Negative\",\"Negative\",\"Negative\",\"Negative\",\"Negative\",\"Positive\",\"Extremely Positive\",\"Negative\",\"Positive\",\"Neutral\",\"Extremely Negative\",\"Extremely Positive\",\"Extremely Positive\",\"Negative\",\"Neutral\",\"Positive\",\"Negative\",\"Extremely Negative\",\"Negative\",\"Positive\",\"Neutral\",\"Negative\",\"Extremely Positive\",\"Positive\",\"Negative\",\"Extremely Negative\",\"Positive\",\"Negative\",\"Positive\",\"Negative\",\"Negative\",\"Positive\",\"Neutral\",\"Neutral\",\"Extremely Negative\",\"Extremely Positive\",\"Neutral\",\"Neutral\",\"Positive\",\"Positive\",\"Extremely Positive\",\"Extremely Positive\",\"Negative\",\"Positive\",\"Extremely Positive\",\"Extremely Positive\",\"Extremely Negative\",\"Neutral\",\"Extremely Positive\",\"Positive\",\"Extremely Negative\",\"Negative\",\"Positive\",\"Negative\",\"Neutral\",\"Extremely Negative\",\"Extremely Positive\"],\"legendgroup\":\"\",\"name\":\"\",\"showlegend\":true,\"type\":\"pie\"}],                        {\"template\":{\"data\":{\"histogram2dcontour\":[{\"type\":\"histogram2dcontour\",\"colorbar\":{\"outlinewidth\":0,\"ticks\":\"\"},\"colorscale\":[[0.0,\"#0d0887\"],[0.1111111111111111,\"#46039f\"],[0.2222222222222222,\"#7201a8\"],[0.3333333333333333,\"#9c179e\"],[0.4444444444444444,\"#bd3786\"],[0.5555555555555556,\"#d8576b\"],[0.6666666666666666,\"#ed7953\"],[0.7777777777777778,\"#fb9f3a\"],[0.8888888888888888,\"#fdca26\"],[1.0,\"#f0f921\"]]}],\"choropleth\":[{\"type\":\"choropleth\",\"colorbar\":{\"outlinewidth\":0,\"ticks\":\"\"}}],\"histogram2d\":[{\"type\":\"histogram2d\",\"colorbar\":{\"outlinewidth\":0,\"ticks\":\"\"},\"colorscale\":[[0.0,\"#0d0887\"],[0.1111111111111111,\"#46039f\"],[0.2222222222222222,\"#7201a8\"],[0.3333333333333333,\"#9c179e\"],[0.4444444444444444,\"#bd3786\"],[0.5555555555555556,\"#d8576b\"],[0.6666666666666666,\"#ed7953\"],[0.7777777777777778,\"#fb9f3a\"],[0.8888888888888888,\"#fdca26\"],[1.0,\"#f0f921\"]]}],\"heatmap\":[{\"type\":\"heatmap\",\"colorbar\":{\"outlinewidth\":0,\"ticks\":\"\"},\"colorscale\":[[0.0,\"#0d0887\"],[0.1111111111111111,\"#46039f\"],[0.2222222222222222,\"#7201a8\"],[0.3333333333333333,\"#9c179e\"],[0.4444444444444444,\"#bd3786\"],[0.5555555555555556,\"#d8576b\"],[0.6666666666666666,\"#ed7953\"],[0.7777777777777778,\"#fb9f3a\"],[0.8888888888888888,\"#fdca26\"],[1.0,\"#f0f921\"]]}],\"heatmapgl\":[{\"type\":\"heatmapgl\",\"colorbar\":{\"outlinewidth\":0,\"ticks\":\"\"},\"colorscale\":[[0.0,\"#0d0887\"],[0.1111111111111111,\"#46039f\"],[0.2222222222222222,\"#7201a8\"],[0.3333333333333333,\"#9c179e\"],[0.4444444444444444,\"#bd3786\"],[0.5555555555555556,\"#d8576b\"],[0.6666666666666666,\"#ed7953\"],[0.7777777777777778,\"#fb9f3a\"],[0.8888888888888888,\"#fdca26\"],[1.0,\"#f0f921\"]]}],\"contourcarpet\":[{\"type\":\"contourcarpet\",\"colorbar\":{\"outlinewidth\":0,\"ticks\":\"\"}}],\"contour\":[{\"type\":\"contour\",\"colorbar\":{\"outlinewidth\":0,\"ticks\":\"\"},\"colorscale\":[[0.0,\"#0d0887\"],[0.1111111111111111,\"#46039f\"],[0.2222222222222222,\"#7201a8\"],[0.3333333333333333,\"#9c179e\"],[0.4444444444444444,\"#bd3786\"],[0.5555555555555556,\"#d8576b\"],[0.6666666666666666,\"#ed7953\"],[0.7777777777777778,\"#fb9f3a\"],[0.8888888888888888,\"#fdca26\"],[1.0,\"#f0f921\"]]}],\"surface\":[{\"type\":\"surface\",\"colorbar\":{\"outlinewidth\":0,\"ticks\":\"\"},\"colorscale\":[[0.0,\"#0d0887\"],[0.1111111111111111,\"#46039f\"],[0.2222222222222222,\"#7201a8\"],[0.3333333333333333,\"#9c179e\"],[0.4444444444444444,\"#bd3786\"],[0.5555555555555556,\"#d8576b\"],[0.6666666666666666,\"#ed7953\"],[0.7777777777777778,\"#fb9f3a\"],[0.8888888888888888,\"#fdca26\"],[1.0,\"#f0f921\"]]}],\"mesh3d\":[{\"type\":\"mesh3d\",\"colorbar\":{\"outlinewidth\":0,\"ticks\":\"\"}}],\"scatter\":[{\"fillpattern\":{\"fillmode\":\"overlay\",\"size\":10,\"solidity\":0.2},\"type\":\"scatter\"}],\"parcoords\":[{\"type\":\"parcoords\",\"line\":{\"colorbar\":{\"outlinewidth\":0,\"ticks\":\"\"}}}],\"scatterpolargl\":[{\"type\":\"scatterpolargl\",\"marker\":{\"colorbar\":{\"outlinewidth\":0,\"ticks\":\"\"}}}],\"bar\":[{\"error_x\":{\"color\":\"#2a3f5f\"},\"error_y\":{\"color\":\"#2a3f5f\"},\"marker\":{\"line\":{\"color\":\"#E5ECF6\",\"width\":0.5},\"pattern\":{\"fillmode\":\"overlay\",\"size\":10,\"solidity\":0.2}},\"type\":\"bar\"}],\"scattergeo\":[{\"type\":\"scattergeo\",\"marker\":{\"colorbar\":{\"outlinewidth\":0,\"ticks\":\"\"}}}],\"scatterpolar\":[{\"type\":\"scatterpolar\",\"marker\":{\"colorbar\":{\"outlinewidth\":0,\"ticks\":\"\"}}}],\"histogram\":[{\"marker\":{\"pattern\":{\"fillmode\":\"overlay\",\"size\":10,\"solidity\":0.2}},\"type\":\"histogram\"}],\"scattergl\":[{\"type\":\"scattergl\",\"marker\":{\"colorbar\":{\"outlinewidth\":0,\"ticks\":\"\"}}}],\"scatter3d\":[{\"type\":\"scatter3d\",\"line\":{\"colorbar\":{\"outlinewidth\":0,\"ticks\":\"\"}},\"marker\":{\"colorbar\":{\"outlinewidth\":0,\"ticks\":\"\"}}}],\"scattermapbox\":[{\"type\":\"scattermapbox\",\"marker\":{\"colorbar\":{\"outlinewidth\":0,\"ticks\":\"\"}}}],\"scatterternary\":[{\"type\":\"scatterternary\",\"marker\":{\"colorbar\":{\"outlinewidth\":0,\"ticks\":\"\"}}}],\"scattercarpet\":[{\"type\":\"scattercarpet\",\"marker\":{\"colorbar\":{\"outlinewidth\":0,\"ticks\":\"\"}}}],\"carpet\":[{\"aaxis\":{\"endlinecolor\":\"#2a3f5f\",\"gridcolor\":\"white\",\"linecolor\":\"white\",\"minorgridcolor\":\"white\",\"startlinecolor\":\"#2a3f5f\"},\"baxis\":{\"endlinecolor\":\"#2a3f5f\",\"gridcolor\":\"white\",\"linecolor\":\"white\",\"minorgridcolor\":\"white\",\"startlinecolor\":\"#2a3f5f\"},\"type\":\"carpet\"}],\"table\":[{\"cells\":{\"fill\":{\"color\":\"#EBF0F8\"},\"line\":{\"color\":\"white\"}},\"header\":{\"fill\":{\"color\":\"#C8D4E3\"},\"line\":{\"color\":\"white\"}},\"type\":\"table\"}],\"barpolar\":[{\"marker\":{\"line\":{\"color\":\"#E5ECF6\",\"width\":0.5},\"pattern\":{\"fillmode\":\"overlay\",\"size\":10,\"solidity\":0.2}},\"type\":\"barpolar\"}],\"pie\":[{\"automargin\":true,\"type\":\"pie\"}]},\"layout\":{\"autotypenumbers\":\"strict\",\"colorway\":[\"#636efa\",\"#EF553B\",\"#00cc96\",\"#ab63fa\",\"#FFA15A\",\"#19d3f3\",\"#FF6692\",\"#B6E880\",\"#FF97FF\",\"#FECB52\"],\"font\":{\"color\":\"#2a3f5f\"},\"hovermode\":\"closest\",\"hoverlabel\":{\"align\":\"left\"},\"paper_bgcolor\":\"white\",\"plot_bgcolor\":\"#E5ECF6\",\"polar\":{\"bgcolor\":\"#E5ECF6\",\"angularaxis\":{\"gridcolor\":\"white\",\"linecolor\":\"white\",\"ticks\":\"\"},\"radialaxis\":{\"gridcolor\":\"white\",\"linecolor\":\"white\",\"ticks\":\"\"}},\"ternary\":{\"bgcolor\":\"#E5ECF6\",\"aaxis\":{\"gridcolor\":\"white\",\"linecolor\":\"white\",\"ticks\":\"\"},\"baxis\":{\"gridcolor\":\"white\",\"linecolor\":\"white\",\"ticks\":\"\"},\"caxis\":{\"gridcolor\":\"white\",\"linecolor\":\"white\",\"ticks\":\"\"}},\"coloraxis\":{\"colorbar\":{\"outlinewidth\":0,\"ticks\":\"\"}},\"colorscale\":{\"sequential\":[[0.0,\"#0d0887\"],[0.1111111111111111,\"#46039f\"],[0.2222222222222222,\"#7201a8\"],[0.3333333333333333,\"#9c179e\"],[0.4444444444444444,\"#bd3786\"],[0.5555555555555556,\"#d8576b\"],[0.6666666666666666,\"#ed7953\"],[0.7777777777777778,\"#fb9f3a\"],[0.8888888888888888,\"#fdca26\"],[1.0,\"#f0f921\"]],\"sequentialminus\":[[0.0,\"#0d0887\"],[0.1111111111111111,\"#46039f\"],[0.2222222222222222,\"#7201a8\"],[0.3333333333333333,\"#9c179e\"],[0.4444444444444444,\"#bd3786\"],[0.5555555555555556,\"#d8576b\"],[0.6666666666666666,\"#ed7953\"],[0.7777777777777778,\"#fb9f3a\"],[0.8888888888888888,\"#fdca26\"],[1.0,\"#f0f921\"]],\"diverging\":[[0,\"#8e0152\"],[0.1,\"#c51b7d\"],[0.2,\"#de77ae\"],[0.3,\"#f1b6da\"],[0.4,\"#fde0ef\"],[0.5,\"#f7f7f7\"],[0.6,\"#e6f5d0\"],[0.7,\"#b8e186\"],[0.8,\"#7fbc41\"],[0.9,\"#4d9221\"],[1,\"#276419\"]]},\"xaxis\":{\"gridcolor\":\"white\",\"linecolor\":\"white\",\"ticks\":\"\",\"title\":{\"standoff\":15},\"zerolinecolor\":\"white\",\"automargin\":true,\"zerolinewidth\":2},\"yaxis\":{\"gridcolor\":\"white\",\"linecolor\":\"white\",\"ticks\":\"\",\"title\":{\"standoff\":15},\"zerolinecolor\":\"white\",\"automargin\":true,\"zerolinewidth\":2},\"scene\":{\"xaxis\":{\"backgroundcolor\":\"#E5ECF6\",\"gridcolor\":\"white\",\"linecolor\":\"white\",\"showbackground\":true,\"ticks\":\"\",\"zerolinecolor\":\"white\",\"gridwidth\":2},\"yaxis\":{\"backgroundcolor\":\"#E5ECF6\",\"gridcolor\":\"white\",\"linecolor\":\"white\",\"showbackground\":true,\"ticks\":\"\",\"zerolinecolor\":\"white\",\"gridwidth\":2},\"zaxis\":{\"backgroundcolor\":\"#E5ECF6\",\"gridcolor\":\"white\",\"linecolor\":\"white\",\"showbackground\":true,\"ticks\":\"\",\"zerolinecolor\":\"white\",\"gridwidth\":2}},\"shapedefaults\":{\"line\":{\"color\":\"#2a3f5f\"}},\"annotationdefaults\":{\"arrowcolor\":\"#2a3f5f\",\"arrowhead\":0,\"arrowwidth\":1},\"geo\":{\"bgcolor\":\"white\",\"landcolor\":\"#E5ECF6\",\"subunitcolor\":\"white\",\"showland\":true,\"showlakes\":true,\"lakecolor\":\"white\"},\"title\":{\"x\":0.05},\"mapbox\":{\"style\":\"light\"}}},\"legend\":{\"tracegroupgap\":0},\"title\":{\"text\":\"Sentiment Pie Chart\"}},                        {\"responsive\": true}                    ).then(function(){\n",
              "                            \n",
              "var gd = document.getElementById('1c6656c6-232d-49f0-8a9c-e840c0621290');\n",
              "var x = new MutationObserver(function (mutations, observer) {{\n",
              "        var display = window.getComputedStyle(gd).display;\n",
              "        if (!display || display === 'none') {{\n",
              "            console.log([gd, 'removed!']);\n",
              "            Plotly.purge(gd);\n",
              "            observer.disconnect();\n",
              "        }}\n",
              "}});\n",
              "\n",
              "// Listen for the removal of the full notebook cells\n",
              "var notebookContainer = gd.closest('#notebook-container');\n",
              "if (notebookContainer) {{\n",
              "    x.observe(notebookContainer, {childList: true});\n",
              "}}\n",
              "\n",
              "// Listen for the clearing of the current output cell\n",
              "var outputEl = gd.closest('.output');\n",
              "if (outputEl) {{\n",
              "    x.observe(outputEl, {childList: true});\n",
              "}}\n",
              "\n",
              "                        })                };                            </script>        </div>\n",
              "</body>\n",
              "</html>"
            ]
          },
          "metadata": {}
        }
      ],
      "source": [
        "fig = px.pie(df, names='Sentiment',hole=0.3, title='Sentiment Pie Chart')\n",
        "fig.show()"
      ]
    },
    {
      "cell_type": "code",
      "execution_count": 26,
      "metadata": {
        "id": "iGR78l4QHuxH"
      },
      "outputs": [],
      "source": [
        "labels = df['Sentiment'].unique()\n",
        "labels\n",
        "res = df['Sentiment'].value_counts().reset_index()"
      ]
    },
    {
      "cell_type": "code",
      "source": [
        "labels = np.array(res['Sentiment'])\n",
        "data = np.array(res['count'])\n",
        "plt.pie(data,labels = labels,autopct='%1.1f%%')\n",
        "plt.title(\"Sentiment Pie Chart\")"
      ],
      "metadata": {
        "colab": {
          "base_uri": "https://localhost:8080/",
          "height": 446
        },
        "id": "66peqY1TNZpN",
        "outputId": "d1821a5a-3393-40d4-98b2-6ae329f9b795"
      },
      "execution_count": 27,
      "outputs": [
        {
          "output_type": "execute_result",
          "data": {
            "text/plain": [
              "Text(0.5, 1.0, 'Sentiment Pie Chart')"
            ]
          },
          "metadata": {},
          "execution_count": 27
        },
        {
          "output_type": "display_data",
          "data": {
            "text/plain": [
              "<Figure size 640x480 with 1 Axes>"
            ],
            "image/png": "[encoded data removed]"
          },
          "metadata": {}
        }
      ]
    },
    {
      "cell_type": "markdown",
      "metadata": {
        "id": "_hyaet55wG-R"
      },
      "source": [
        "### Splitting the dataset into training and testing\n"
      ]
    },
    {
      "cell_type": "code",
      "execution_count": 28,
      "metadata": {
        "colab": {
          "base_uri": "https://localhost:8080/"
        },
        "id": "PoZUAb_mdX7E",
        "outputId": "2e879ce6-ab13-4e64-fb7a-bec82dc96a09"
      },
      "outputs": [
        {
          "output_type": "stream",
          "name": "stdout",
          "text": [
            "Size of training dataset:  1514\n",
            "Size of testing dataset:  380\n",
            "\u001b[92m\n",
            "positive in green: \n",
            "\u001b[92mWas just in the grocery store for over an hour, waiting in line.... made friends with the guy in line in front of us and he bought us ice cream (wrapped in individual packages, before you trolls hop on my tweet). #Covid_19 stories\n",
            "\u001b[91m\n",
            "negative in red: \n",
            "\u001b[91mJust been to B&amp;Q in Renfrew. There's a jar of pasta twists sitting in one of the kitchen displays if anyone is desperate #coronavirus #StopPanicBuying\n"
          ]
        }
      ],
      "source": [
        "# Separating positive_tweets and negative_tweets\n",
        "all_positive_tweets = list(df[df['Sentiment'] == 'Positive']['OriginalTweet'].astype(str)) # Making equal positive and negative tweet counts\n",
        "all_negative_tweets = list(df[df['Sentiment'] == 'Negative']['OriginalTweet'].astype(str))[:947]\n",
        "\n",
        "# Splitting training and testing set. 80/20 split\n",
        "positive_train, positive_test = train_test_split(all_positive_tweets, test_size=0.2, random_state=42)\n",
        "negative_train, negative_test = train_test_split(all_negative_tweets, test_size=0.2, random_state=42)\n",
        "\n",
        "print(\"Size of training dataset: \",len(positive_train) + len(negative_train))\n",
        "print(\"Size of testing dataset: \", len(positive_test)  + len(negative_test))\n",
        "\n",
        "# print positive in green\n",
        "print('\\033[92m' + '\\npositive in green: ')\n",
        "print('\\033[92m' + all_positive_tweets[random.randint(0,947)])\n",
        "print('\\033[91m' + '\\nnegative in red: ')\n",
        "# print negative in red\n",
        "print('\\033[91m' + all_negative_tweets[random.randint(0,947)])"
      ]
    },
    {
      "cell_type": "markdown",
      "metadata": {
        "id": "d53EMX52kndn"
      },
      "source": [
        "**Note:** A lot of unnecessary words like hashtags, hyperlinks are also tokenized.\n",
        "\n",
        "## 1.3 Can we reduce dataset size?\n",
        "\n",
        "<!-- Do we need hashtags and hyperlinks for analyzing the tweets? -->\n",
        "\n",
        "<!-- ### What kind of textual data can we remove from the tweets? -->\n",
        "### What are the unwanted textual data?\n",
        "\n",
        "<details>\n",
        "<summary>\n",
        "    <font size=\"3\" color=\"\"><b>Answer</b></font>\n",
        "</summary>\n",
        "<p>\n",
        "<ol>\n",
        "    <li>Remove hashtags and hyperlinks before tokenization.</li>\n",
        "    <li>Remove stopwords and punctuations.</li>\n",
        "    \n",
        "</ol>\n",
        "</p>\n",
        "\n",
        "\n",
        "\n",
        "\n",
        "\n",
        "\n"
      ]
    },
    {
      "cell_type": "code",
      "execution_count": 29,
      "metadata": {
        "colab": {
          "base_uri": "https://localhost:8080/"
        },
        "id": "F9PbbTuzMBaV",
        "outputId": "f2f63021-5e09-4658-ee3b-ccf5f1f11e51"
      },
      "outputs": [
        {
          "output_type": "stream",
          "name": "stderr",
          "text": [
            "[nltk_data] Downloading package wordnet to /root/nltk_data...\n",
            "[nltk_data]   Package wordnet is already up-to-date!\n",
            "[nltk_data] Downloading package omw-1.4 to /root/nltk_data...\n",
            "[nltk_data]   Package omw-1.4 is already up-to-date!\n",
            "[nltk_data] Downloading package stopwords to /root/nltk_data...\n",
            "[nltk_data]   Unzipping corpora/stopwords.zip.\n"
          ]
        },
        {
          "output_type": "execute_result",
          "data": {
            "text/plain": [
              "True"
            ]
          },
          "metadata": {},
          "execution_count": 29
        }
      ],
      "source": [
        "import nltk                                # Python library for NLP\n",
        "from nltk.corpus import twitter_samples    # sample Twitter dataset from NLTK\n",
        "from nltk.corpus import stopwords          # module for stop words that come with NLTK\n",
        "from nltk.stem import PorterStemmer        # module for stemming\n",
        "from nltk.stem import WordNetLemmatizer    # module for Lemmatization\n",
        "from nltk.tokenize import TweetTokenizer\n",
        "nltk.download('wordnet')\n",
        "nltk.download('omw-1.4')\n",
        "nltk.download(\"stopwords\")\n"
      ]
    },
    {
      "cell_type": "code",
      "execution_count": 30,
      "metadata": {
        "colab": {
          "base_uri": "https://localhost:8080/",
          "height": 36
        },
        "id": "06etZaFHgFJN",
        "outputId": "a7eeb47a-4b68-4977-9dc6-dc4dc39f3492"
      },
      "outputs": [
        {
          "output_type": "execute_result",
          "data": {
            "text/plain": [
              "'Consumers have increased their online shopping due to coronavirus. https://t.co/5mYfz3RAD0 #retail #ecommerce #study #coronavirus https://t.co/Dz3H6zrWUT'"
            ],
            "application/vnd.google.colaboratory.intrinsic+json": {
              "type": "string"
            }
          },
          "metadata": {},
          "execution_count": 30
        }
      ],
      "source": [
        "# Our selected sample. Complex enough to exemplify each step\n",
        "tweet = all_positive_tweets[12]\n",
        "tweet"
      ]
    },
    {
      "cell_type": "code",
      "execution_count": 31,
      "metadata": {
        "id": "VlH0B_FZhPVb"
      },
      "outputs": [],
      "source": [
        "def process_tweet(tweet):\n",
        "    lemmatizer = WordNetLemmatizer()\n",
        "    stopwords_english = stopwords.words('english')\n",
        "    # remove stock market tickers like $GE\n",
        "    tweet = re.sub(r'\\$\\w*', '', tweet)\n",
        "    # remove old style retweet text \"RT\"\n",
        "    tweet = re.sub(r'^RT[\\s]+', '', tweet)\n",
        "    # remove hyperlinks\n",
        "    tweet = re.sub(r'https?://[^\\s\\n\\r]+', '', tweet)\n",
        "    # remove hashtags\n",
        "    # only removing the hash # sign from the word\n",
        "    tweet = re.sub(r'#', '', tweet)\n",
        "    # tokenize tweets\n",
        "    tokenizer = TweetTokenizer(preserve_case=False, strip_handles=True,\n",
        "                               reduce_len=True)\n",
        "    tweet_tokens = tokenizer.tokenize(tweet)\n",
        "\n",
        "    tweets_clean = []\n",
        "    for word in tweet_tokens:\n",
        "        if (word not in stopwords_english and  # remove stopwords\n",
        "                word not in string.punctuation):  # remove punctuation\n",
        "            # tweets_clean.append(word)\n",
        "            lemma_word = lemmatizer.lemmatize(word)  # stemming word\n",
        "            tweets_clean.append(lemma_word)\n",
        "\n",
        "    return tweets_clean"
      ]
    },
    {
      "cell_type": "code",
      "execution_count": 32,
      "metadata": {
        "colab": {
          "base_uri": "https://localhost:8080/"
        },
        "id": "D0Y9hDRvhWaZ",
        "outputId": "68e18a49-e1e8-4a1a-d9af-d8838b9a3c18"
      },
      "outputs": [
        {
          "output_type": "stream",
          "name": "stdout",
          "text": [
            "\n",
            "\u001b[92m\n",
            "Consumers have increased their online shopping due to coronavirus. https://t.co/5mYfz3RAD0 #retail #ecommerce #study #coronavirus https://t.co/Dz3H6zrWUT\n",
            "\u001b[94m\n",
            "preprocessed tweet:\n",
            "['consumer', 'increased', 'online', 'shopping', 'due', 'coronavirus', 'retail', 'ecommerce', 'study', 'coronavirus']\n"
          ]
        }
      ],
      "source": [
        "# choose the same tweet\n",
        "tweet = all_positive_tweets[12]\n",
        "\n",
        "print()\n",
        "print('\\033[92m')\n",
        "print(tweet)\n",
        "print('\\033[94m')\n",
        "\n",
        "# call the imported function\n",
        "tweets_stem = process_tweet(tweet); # Preprocess a given tweet\n",
        "\n",
        "print('preprocessed tweet:')\n",
        "print(tweets_stem) # Print the result"
      ]
    },
    {
      "cell_type": "code",
      "execution_count": 33,
      "metadata": {
        "id": "vM_U6RobhZjM"
      },
      "outputs": [],
      "source": [
        "def build_freqs(tweets, ys):\n",
        "    # Convert np array to list since zip needs an iterable.\n",
        "    # The squeeze is necessary or the list ends up with one element.\n",
        "    # Also note that this is just a NOP if ys is already a list.\n",
        "    yslist = np.squeeze(ys).tolist()\n",
        "\n",
        "    # Start with an empty dictionary and populate it by looping over all tweets\n",
        "    # and over all processed words in each tweet.\n",
        "    freqs = {}\n",
        "    for y, tweet in zip(yslist, tweets):\n",
        "        for word in process_tweet(tweet):\n",
        "            pair = (word, y)\n",
        "            if pair in freqs:\n",
        "                freqs[pair] += 1\n",
        "            else:\n",
        "                freqs[pair] = 1\n",
        "\n",
        "    return freqs"
      ]
    },
    {
      "cell_type": "code",
      "execution_count": 34,
      "metadata": {
        "id": "F1oopYBFhnN7"
      },
      "outputs": [],
      "source": [
        "training_tweets = positive_train + negative_train\n",
        "# make a numpy array representing labels of the tweets\n",
        "labels = np.append(np.ones((len(positive_train))), np.zeros((len(negative_train))))"
      ]
    },
    {
      "cell_type": "code",
      "execution_count": 35,
      "metadata": {
        "colab": {
          "base_uri": "https://localhost:8080/"
        },
        "id": "_ItH48Nrhq9U",
        "outputId": "8077f19b-6d8b-4844-dde3-3f6860a9fd68"
      },
      "outputs": [
        {
          "output_type": "stream",
          "name": "stdout",
          "text": [
            "type(freqs) = <class 'dict'>\n",
            "len(freqs) = 7985\n"
          ]
        }
      ],
      "source": [
        "# create frequency dictionary\n",
        "freqs = build_freqs(training_tweets, labels)\n",
        "\n",
        "# check data type\n",
        "print(f'type(freqs) = {type(freqs)}')\n",
        "\n",
        "# check length of the dictionary\n",
        "print(f'len(freqs) = {len(freqs)}')"
      ]
    },
    {
      "cell_type": "code",
      "execution_count": 36,
      "metadata": {
        "colab": {
          "base_uri": "https://localhost:8080/"
        },
        "id": "ACN9st4Qht1v",
        "outputId": "f98887fb-c8e1-4391-f463-db687f7bb59e"
      },
      "outputs": [
        {
          "output_type": "execute_result",
          "data": {
            "text/plain": [
              "[['void', 1, 0],\n",
              " ['commun', 0, 0],\n",
              " ['spirit', 1, 2],\n",
              " ['stop', 11, 23],\n",
              " ['merri', 0, 0],\n",
              " ['nice', 6, 6],\n",
              " ['good', 49, 28],\n",
              " ['bad', 1, 8],\n",
              " ['sad', 0, 5],\n",
              " ['mad', 1, 4],\n",
              " ['best', 7, 3],\n",
              " ['pretti', 0, 0],\n",
              " [':)', 1, 1],\n",
              " [':(', 3, 0],\n",
              " ['song', 2, 0],\n",
              " ['idea', 6, 8],\n",
              " ['power', 3, 0],\n",
              " ['play', 4, 1]]"
            ]
          },
          "metadata": {},
          "execution_count": 36
        }
      ],
      "source": [
        "# select some words to appear in the report.\n",
        "keys = ['void', 'commun', 'spirit', 'stop', 'merri', 'nice', 'good', 'bad', 'sad', 'mad', 'best', 'pretti',\n",
        "        ':)', ':(', 'song', 'idea', 'power', 'play']\n",
        "\n",
        "# list representing our table of word counts.\n",
        "# each element consist of a sublist with this pattern: [<word>, <positive_count>, <negative_count>]\n",
        "data = []\n",
        "\n",
        "# loop through our selected words\n",
        "for word in keys:\n",
        "\n",
        "    # initialize positive and negative counts\n",
        "    pos = 0\n",
        "    neg = 0\n",
        "\n",
        "    # retrieve number of positive counts\n",
        "    if (word, 1) in freqs:\n",
        "        pos = freqs[(word, 1)]\n",
        "\n",
        "    # retrieve number of negative counts\n",
        "    if (word, 0) in freqs:\n",
        "        neg = freqs[(word, 0)]\n",
        "\n",
        "    # append the word counts to the table\n",
        "    data.append([word, pos, neg])\n",
        "\n",
        "data"
      ]
    },
    {
      "cell_type": "code",
      "execution_count": 37,
      "metadata": {
        "colab": {
          "base_uri": "https://localhost:8080/",
          "height": 1000
        },
        "id": "dhNzQRcuhz4e",
        "outputId": "7e61ae02-0135-45c9-f7eb-9a56b71b613b"
      },
      "outputs": [
        {
          "output_type": "display_data",
          "data": {
            "text/plain": [
              "<Figure size 1300x1300 with 1 Axes>"
            ],
            "image/png": "[encoded data removed]"
          },
          "metadata": {}
        }
      ],
      "source": [
        "fig, ax = plt.subplots(figsize = (13, 13))\n",
        "\n",
        "# convert positive raw counts to logarithmic scale. we add 1 to avoid log(0)\n",
        "x = np.log([x[1] + 1 for x in data])\n",
        "\n",
        "# do the same for the negative counts\n",
        "y = np.log([x[2] + 1 for x in data])\n",
        "\n",
        "# Plot a dot for each pair of words\n",
        "ax.scatter(x, y)\n",
        "\n",
        "# assign axis labels\n",
        "plt.xlabel(\"Log Positive count\")\n",
        "plt.ylabel(\"Log Negative count\")\n",
        "\n",
        "# Add the word as the label at the same position as you added the points just before\n",
        "for i in range(0, len(data)):\n",
        "    ax.annotate(data[i][0], (x[i], y[i]), fontsize=10)\n",
        "\n",
        "ax.plot([0, 4], [0, 4], color = 'brown') # Plot the red line that divides the 2 areas.\n",
        "plt.show()"
      ]
    },
    {
      "cell_type": "code",
      "execution_count": 38,
      "metadata": {
        "id": "saDyojPCh9lq"
      },
      "outputs": [],
      "source": [
        "def extract_features(tweet, freqs):\n",
        "    # process_tweet tokenizes, stems, and removes stopwords\n",
        "    word_l = process_tweet(tweet)\n",
        "    # 3 elements in the form of a 1 x 3 vector\n",
        "    x = np.zeros((1, 3))\n",
        "\n",
        "    #bias term is set to 1\n",
        "    x[0,0] = 1\n",
        "\n",
        "    # loop through each word in the list of words\n",
        "    for word in word_l:\n",
        "\n",
        "        # increment the word count for the positive label 1\n",
        "        x[0,1] += freqs.get((word, 1.0),0)\n",
        "\n",
        "        # increment the word count for the negative label 0\n",
        "        x[0,2] += freqs.get((word, 0.0),0)\n",
        "\n",
        "    assert(x.shape == (1, 3))\n",
        "    return x"
      ]
    },
    {
      "cell_type": "markdown",
      "metadata": {
        "id": "2sGY9dBzpc7X"
      },
      "source": [
        "### Example 1: feature extraction for a tweet"
      ]
    },
    {
      "cell_type": "code",
      "execution_count": 39,
      "metadata": {
        "colab": {
          "base_uri": "https://localhost:8080/"
        },
        "id": "fj3kTg2SrvTT",
        "outputId": "efe52e7e-8e51-49c0-d2e8-59eb7a1d8703"
      },
      "outputs": [
        {
          "output_type": "stream",
          "name": "stdout",
          "text": [
            "[[1.00e+00 2.26e+03 2.44e+03]]\n"
          ]
        }
      ],
      "source": [
        "train_x = training_tweets\n",
        "tmp1 = extract_features(train_x[0], freqs)\n",
        "print(tmp1)"
      ]
    },
    {
      "cell_type": "markdown",
      "metadata": {
        "id": "PeJxiZPMPQ4Y"
      },
      "source": [
        "### Example 2: feature extraction for a random string"
      ]
    },
    {
      "cell_type": "code",
      "execution_count": 40,
      "metadata": {
        "colab": {
          "base_uri": "https://localhost:8080/"
        },
        "id": "Cse-gnucsdb0",
        "outputId": "2ec0632e-cda7-4b29-9a33-75898311a960"
      },
      "outputs": [
        {
          "output_type": "stream",
          "name": "stdout",
          "text": [
            "[[ 1. 11.  3.]]\n"
          ]
        }
      ],
      "source": [
        "tmp2 = extract_features('This batch is the best batch', freqs)\n",
        "print(tmp2)"
      ]
    },
    {
      "cell_type": "markdown",
      "metadata": {
        "id": "SCos2NQ4p0AM"
      },
      "source": [
        "### Preparing training data"
      ]
    },
    {
      "cell_type": "code",
      "execution_count": 41,
      "metadata": {
        "id": "4eIBtxyzsllx"
      },
      "outputs": [],
      "source": [
        "# collect the features 'x' and stack them into a matrix 'X'\n",
        "X = np.zeros((len(train_x), 3))\n",
        "for i in range(len(train_x)):\n",
        "    X[i, :]= extract_features(train_x[i], freqs)\n",
        "\n",
        "# training labels corresponding to X\n",
        "train_y = np.append(np.ones((len(positive_train), 1)), np.zeros((len(negative_train), 1)), axis=0)\n",
        "Y = np.ravel(train_y,order='C')"
      ]
    },
    {
      "cell_type": "markdown",
      "metadata": {
        "id": "TDAT3yJR6x8H"
      },
      "source": [
        "\n",
        "\n",
        "## 1.6 Using the most basic model to classify\n",
        "\n",
        "\n"
      ]
    },
    {
      "cell_type": "markdown",
      "metadata": {
        "id": "u6FkQlnO5fje"
      },
      "source": [
        "<details>\n",
        "<summary>\n",
        "    <font size=\"3\" color=\"\"><b>Answer</b></font>\n",
        "</summary>\n",
        "<p>\n",
        "<ul>\n",
        "    <li>Logistic Regression.</li>\n",
        "</ul>\n",
        "</p>"
      ]
    },
    {
      "cell_type": "code",
      "execution_count": 42,
      "metadata": {
        "colab": {
          "base_uri": "https://localhost:8080/"
        },
        "id": "3yzsY5oPtYwY",
        "outputId": "1a84063e-0b8a-4f23-93c4-c7d49d2b9fdc"
      },
      "outputs": [
        {
          "output_type": "stream",
          "name": "stdout",
          "text": [
            "Training Accuracy:  0.6743725231175693\n"
          ]
        }
      ],
      "source": [
        "from sklearn.linear_model import LogisticRegression\n",
        "clf = LogisticRegression().fit(X, Y)\n",
        "\n",
        "print(\"Training Accuracy: \",clf.score(X, Y))"
      ]
    },
    {
      "cell_type": "markdown",
      "metadata": {
        "id": "WMFgyy04nodq"
      },
      "source": [
        "Logistic Regression with L1 Regularization"
      ]
    },
    {
      "cell_type": "code",
      "execution_count": 43,
      "metadata": {
        "colab": {
          "base_uri": "https://localhost:8080/"
        },
        "id": "2i3kx_Qdl7In",
        "outputId": "a2d3fc35-576b-49b8-9d7f-0e6f0f904a15"
      },
      "outputs": [
        {
          "output_type": "stream",
          "name": "stdout",
          "text": [
            "Training Accuracy:  0.6829590488771466\n"
          ]
        }
      ],
      "source": [
        "from sklearn.linear_model import LogisticRegression\n",
        "clf = LogisticRegression(C = 0.1,solver= 'saga', penalty= 'l1', max_iter = 500).fit(X, Y)\n",
        "\n",
        "print(\"Training Accuracy: \",clf.score(X, Y))"
      ]
    },
    {
      "cell_type": "markdown",
      "metadata": {
        "id": "gD2i8Gyuqjh0"
      },
      "source": [
        "Official Documentation: [Here](https://scikit-learn.org/stable/modules/generated/sklearn.linear_model.LogisticRegression.html)\n",
        "\n",
        "**Solver:** It is an algorithm to use in optimization problem.\n",
        "\n",
        "- For small datasets, ‘liblinear’ is a good choice, whereas ‘sag’ and ‘saga’ are faster for large ones;\n",
        "\n",
        "- For multiclass problems, only ‘newton-cg’, ‘sag’, ‘saga’ and ‘lbfgs’ handle multinomial loss;\n",
        "\n",
        "- ‘liblinear’ is limited to one-versus-rest schemes.\n",
        "\n",
        "- L1 penalty is only possible with 'saga' and 'liblinear' solver\n",
        "\n",
        "- ‘sag’ and ‘saga’ fast convergence is only guaranteed on features with approximately the same scale.\n",
        "\n",
        "**Penalty:** We can add 'l1', 'l2', 'elasticnet' regularization term to the problem.\n",
        "\n",
        "**C:** It is an inverse of Regularization Strength.\n",
        "\n"
      ]
    },
    {
      "cell_type": "markdown",
      "metadata": {
        "id": "jjMfzapJ4teb"
      },
      "source": [
        "### Check performance on test set"
      ]
    },
    {
      "cell_type": "code",
      "execution_count": 44,
      "metadata": {
        "colab": {
          "base_uri": "https://localhost:8080/"
        },
        "id": "yylIaJtevVUk",
        "outputId": "aebf78fe-af7c-4947-a4f1-ea7062a6d2f8"
      },
      "outputs": [
        {
          "output_type": "stream",
          "name": "stdout",
          "text": [
            "Testing Accuracy:  0.5789473684210527\n"
          ]
        }
      ],
      "source": [
        "# Testing\n",
        "testing_tweets = positive_test + negative_test\n",
        "\n",
        "test_X = np.zeros((len(testing_tweets), 3))\n",
        "for i in range(len(testing_tweets)):\n",
        "    test_X[i, :]= extract_features(testing_tweets[i], freqs)\n",
        "\n",
        "# training labels corresponding to X\n",
        "test_y = np.append(np.ones((len(positive_test), 1)), np.zeros((len(negative_test), 1)), axis=0)\n",
        "test_Y = np.ravel(test_y,order='C')\n",
        "\n",
        "print(\"Testing Accuracy: \",clf.score(test_X, test_Y))"
      ]
    },
    {
      "cell_type": "markdown",
      "metadata": {
        "id": "rr6CWk-540TS"
      },
      "source": [
        "### Predict whether a tweet is positive or negative.\n",
        "\n",
        "**Note:** classify 1, for a positive sentiment, and 0, for a negative sentiment."
      ]
    },
    {
      "cell_type": "code",
      "execution_count": 45,
      "metadata": {
        "colab": {
          "base_uri": "https://localhost:8080/"
        },
        "id": "3QliyEkHiNsg",
        "outputId": "f56bb3f9-79ac-4229-83a1-dc4585e2d9ee"
      },
      "outputs": [
        {
          "output_type": "stream",
          "name": "stdout",
          "text": [
            "\u001b[92mThank God coronovirus is over -> 1.000000\n",
            "\u001b[91mThis is seriously ridiculous. Stop hoarding -> 0.000000\n",
            "\u001b[92mGovernment efforts are great. -> 1.000000\n",
            "\u001b[93mNonsense -> 0.000000\n",
            "\u001b[91mPanic-buying is pushing up prices.#coronavirus -> 0.000000\n",
            "\u001b[92mTHANK YOU to make hand sanitizer in distillery amid outbreak -> 1.000000\n"
          ]
        },
        {
          "output_type": "stream",
          "name": "stderr",
          "text": [
            "<ipython-input-45-cb1f0bb2edad>:15: DeprecationWarning:\n",
            "\n",
            "Conversion of an array with ndim > 0 to a scalar is deprecated, and will error in future. Ensure you extract a single element from your array before performing this operation. (Deprecated NumPy 1.25.)\n",
            "\n",
            "<ipython-input-45-cb1f0bb2edad>:15: DeprecationWarning:\n",
            "\n",
            "Conversion of an array with ndim > 0 to a scalar is deprecated, and will error in future. Ensure you extract a single element from your array before performing this operation. (Deprecated NumPy 1.25.)\n",
            "\n",
            "<ipython-input-45-cb1f0bb2edad>:15: DeprecationWarning:\n",
            "\n",
            "Conversion of an array with ndim > 0 to a scalar is deprecated, and will error in future. Ensure you extract a single element from your array before performing this operation. (Deprecated NumPy 1.25.)\n",
            "\n",
            "<ipython-input-45-cb1f0bb2edad>:15: DeprecationWarning:\n",
            "\n",
            "Conversion of an array with ndim > 0 to a scalar is deprecated, and will error in future. Ensure you extract a single element from your array before performing this operation. (Deprecated NumPy 1.25.)\n",
            "\n",
            "<ipython-input-45-cb1f0bb2edad>:15: DeprecationWarning:\n",
            "\n",
            "Conversion of an array with ndim > 0 to a scalar is deprecated, and will error in future. Ensure you extract a single element from your array before performing this operation. (Deprecated NumPy 1.25.)\n",
            "\n",
            "<ipython-input-45-cb1f0bb2edad>:15: DeprecationWarning:\n",
            "\n",
            "Conversion of an array with ndim > 0 to a scalar is deprecated, and will error in future. Ensure you extract a single element from your array before performing this operation. (Deprecated NumPy 1.25.)\n",
            "\n"
          ]
        }
      ],
      "source": [
        "def predict_custom_tweet(tweet, freqs):\n",
        "    x = extract_features(tweet,freqs)\n",
        "    y_pred = clf.predict(x)\n",
        "    return y_pred\n",
        "\n",
        "# test your function\n",
        "list_of_tweets = ['\\033[92m'+'Thank God coronovirus is over',\n",
        "                  '\\033[91m'+'This is seriously ridiculous. Stop hoarding',\n",
        "                  '\\033[92m'+'Government efforts are great.',\n",
        "                  '\\033[93m'+'Nonsense', #anomaly in classification\n",
        "                  '\\033[91m'+'Panic-buying is pushing up prices.#coronavirus',\n",
        "                  '\\033[92m'+'THANK YOU to make hand sanitizer in distillery amid outbreak']\n",
        "\n",
        "for tweet in list_of_tweets:\n",
        "    print( '%s -> %f' % (tweet, predict_custom_tweet(tweet, freqs)))"
      ]
    }
  ]
}